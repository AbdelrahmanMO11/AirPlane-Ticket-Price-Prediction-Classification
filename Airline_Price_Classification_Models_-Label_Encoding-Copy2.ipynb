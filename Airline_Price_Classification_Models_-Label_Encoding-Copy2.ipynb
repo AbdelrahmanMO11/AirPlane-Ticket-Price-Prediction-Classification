{
 "cells": [
  {
   "cell_type": "code",
   "execution_count": 633,
   "id": "368bbe8a",
   "metadata": {},
   "outputs": [],
   "source": [
    "import pandas as pd\n",
    "import numpy as np\n",
    "import matplotlib.pyplot as plt\n",
    "from sklearn.model_selection import train_test_split\n",
    "from sklearn.preprocessing import LabelEncoder\n",
    "from sklearn import metrics\n",
    "import seaborn as sns\n",
    "from sklearn.preprocessing import OneHotEncoder\n",
    "from sklearn import preprocessing\n",
    "from sklearn.preprocessing import MinMaxScaler\n",
    "from sklearn.pipeline import Pipeline\n",
    "from sklearn.preprocessing import StandardScaler, PolynomialFeatures\n",
    "from sklearn.model_selection import GridSearchCV\n",
    "from mlxtend.plotting import plot_confusion_matrix\n",
    "from sklearn.metrics import confusion_matrix,f1_score,plot_roc_curve,accuracy_score,roc_curve,roc_auc_score,recall_score\n",
    "from xgboost import XGBClassifier\n",
    "from sklearn.neighbors import KNeighborsClassifier\n",
    "from sklearn.naive_bayes import GaussianNB\n",
    "from sklearn.preprocessing import OrdinalEncoder\n",
    "from sklearn.ensemble import GradientBoostingClassifier\n",
    "from sklearn.ensemble import RandomForestClassifier\n",
    "from sklearn.ensemble import AdaBoostClassifier\n",
    "from geopy.exc import GeocoderTimedOut\n",
    "from geopy.geocoders import Nominatim\n",
    "\n",
    "from pickle import dump\n",
    "from pickle import load\n",
    "\n",
    "%matplotlib inline"
   ]
  },
  {
   "cell_type": "markdown",
   "id": "174a60db",
   "metadata": {},
   "source": [
    "# function that get source and destination\n",
    "pass parameter of index = 0 to get source pass index = 1 to get destination"
   ]
  },
  {
   "cell_type": "code",
   "execution_count": 634,
   "id": "4f3f5c61",
   "metadata": {},
   "outputs": [],
   "source": [
    "def getCity(value,index):\n",
    "    return value.split(',')[index].split(': ')[1].split(\"'\")[1]"
   ]
  },
  {
   "cell_type": "code",
   "execution_count": 635,
   "id": "8eef2c84",
   "metadata": {},
   "outputs": [],
   "source": [
    "def getDistance(value):\n",
    "    source = getCity(value,0)\n",
    "    destination = getCity(value,1)\n",
    "    index1 = cities.index(source)\n",
    "    index2 = cities.index(destination)\n",
    "    return distanceKm((latitude[index1],longitude[index1]),(latitude[index2],longitude[index2]))\n"
   ]
  },
  {
   "cell_type": "code",
   "execution_count": 636,
   "id": "8aad23fb",
   "metadata": {},
   "outputs": [],
   "source": [
    "def distanceKm(loc1,loc2):\n",
    "    from haversine import haversine, Unit\n",
    "    source = (loc1[0], loc1[1]) # (lat, lon)\n",
    "    destination = (loc2[0], loc2[1])\n",
    "    return haversine(source, destination)"
   ]
  },
  {
   "cell_type": "markdown",
   "id": "362c6966",
   "metadata": {},
   "source": [
    "# Check weekend Or Not "
   ]
  },
  {
   "cell_type": "code",
   "execution_count": 637,
   "id": "6360a1a1",
   "metadata": {},
   "outputs": [],
   "source": [
    "def isWeekEndOrNot(day):\n",
    "    if(day == 'Saturday' or day == 'Monday'):\n",
    "        return 1\n",
    "    return 0 "
   ]
  },
  {
   "cell_type": "markdown",
   "id": "cef3de6f",
   "metadata": {},
   "source": [
    "# Function get location by name of city "
   ]
  },
  {
   "cell_type": "code",
   "execution_count": 638,
   "id": "fc43570a",
   "metadata": {},
   "outputs": [],
   "source": [
    "longitude = []\n",
    "latitude = []\n",
    "   \n",
    "def findLocation(city):\n",
    "    try:\n",
    "        geolocator = Nominatim(user_agent=\"airline\")\n",
    "        return geolocator.geocode(city)\n",
    "      \n",
    "    except GeocoderTimedOut:\n",
    "          \n",
    "        return findLocation(city)    "
   ]
  },
  {
   "cell_type": "markdown",
   "id": "887d1a59",
   "metadata": {},
   "source": [
    "# Function Returns Number of stops"
   ]
  },
  {
   "cell_type": "code",
   "execution_count": 639,
   "id": "edfac4a1",
   "metadata": {},
   "outputs": [],
   "source": [
    "def retrnNumberOfStops(x):\n",
    "    if(x[0] == 'n'):\n",
    "        return 0\n",
    "    else: \n",
    "        return int(x[0])"
   ]
  },
  {
   "cell_type": "markdown",
   "id": "80d03711",
   "metadata": {},
   "source": [
    "# Handling Time Taking "
   ]
  },
  {
   "cell_type": "code",
   "execution_count": 640,
   "id": "b58878e7",
   "metadata": {},
   "outputs": [],
   "source": [
    "def handlingTimeTaken(x):\n",
    "    hours=\"\"\n",
    "    index = 0\n",
    "    minutes =\"\"\n",
    "    for i in range(0,len(x)):\n",
    "        if(x[i] == 'h'):\n",
    "            index = i \n",
    "            hours = x[:i]\n",
    "            break\n",
    "    for i in range(0,len(x)):\n",
    "        if(x[i]=='m'):\n",
    "            minutes = x[index + 2:i]\n",
    "            break\n",
    "    allTimes = \"\"\n",
    "    if (minutes == \"\"):\n",
    "        allTime = hours\n",
    "    else:\n",
    "        minutes = str(int(minutes) / 60)\n",
    "        allTime=  hours + (minutes[1:])\n",
    "    return float(allTime)"
   ]
  },
  {
   "cell_type": "markdown",
   "id": "127fa2e0",
   "metadata": {},
   "source": [
    "# Function Specify your top n features you want to visualize."
   ]
  },
  {
   "cell_type": "code",
   "execution_count": 641,
   "id": "7e460649",
   "metadata": {},
   "outputs": [],
   "source": [
    "def f_importances(coef, names, top=-1):\n",
    "    imp = coef\n",
    "    imp, names = zip(*sorted(list(zip(imp, names))))\n",
    "\n",
    "    # Show all features\n",
    "    if top == -1:\n",
    "        top = len(names)\n",
    "\n",
    "    plt.barh(range(top), imp[::-1][0:top], align='center')\n",
    "    plt.yticks(range(top), names[::-1][0:top])\n",
    "    plt.title('feature importances')\n",
    "    plt.show()\n",
    "\n",
    "# You can also discard the abs() function \n",
    "# if you are interested in negative contribution of features"
   ]
  },
  {
   "cell_type": "markdown",
   "id": "d2830819",
   "metadata": {},
   "source": [
    "# Reading Data"
   ]
  },
  {
   "cell_type": "code",
   "execution_count": 642,
   "id": "63005287",
   "metadata": {},
   "outputs": [],
   "source": [
    "df = pd.read_csv('airline-price-classification.csv')"
   ]
  },
  {
   "cell_type": "code",
   "execution_count": 643,
   "id": "a19007d5",
   "metadata": {},
   "outputs": [
    {
     "data": {
      "text/html": [
       "<div>\n",
       "<style scoped>\n",
       "    .dataframe tbody tr th:only-of-type {\n",
       "        vertical-align: middle;\n",
       "    }\n",
       "\n",
       "    .dataframe tbody tr th {\n",
       "        vertical-align: top;\n",
       "    }\n",
       "\n",
       "    .dataframe thead th {\n",
       "        text-align: right;\n",
       "    }\n",
       "</style>\n",
       "<table border=\"1\" class=\"dataframe\">\n",
       "  <thead>\n",
       "    <tr style=\"text-align: right;\">\n",
       "      <th></th>\n",
       "      <th>date</th>\n",
       "      <th>airline</th>\n",
       "      <th>ch_code</th>\n",
       "      <th>num_code</th>\n",
       "      <th>dep_time</th>\n",
       "      <th>time_taken</th>\n",
       "      <th>stop</th>\n",
       "      <th>arr_time</th>\n",
       "      <th>type</th>\n",
       "      <th>route</th>\n",
       "      <th>TicketCategory</th>\n",
       "    </tr>\n",
       "  </thead>\n",
       "  <tbody>\n",
       "    <tr>\n",
       "      <th>0</th>\n",
       "      <td>5/3/2022</td>\n",
       "      <td>Vistara</td>\n",
       "      <td>UK</td>\n",
       "      <td>812</td>\n",
       "      <td>9:45</td>\n",
       "      <td>10h 10m</td>\n",
       "      <td>1-stop\\n\\t\\t\\t\\t\\t\\t\\t\\t\\t\\t\\t\\t\\n\\t\\t\\t\\t\\t\\t...</td>\n",
       "      <td>19:55</td>\n",
       "      <td>business</td>\n",
       "      <td>{'source': 'Bangalore', 'destination': 'Hydera...</td>\n",
       "      <td>very expensive</td>\n",
       "    </tr>\n",
       "    <tr>\n",
       "      <th>1</th>\n",
       "      <td>18-03-2022</td>\n",
       "      <td>Vistara</td>\n",
       "      <td>UK</td>\n",
       "      <td>975</td>\n",
       "      <td>5:45</td>\n",
       "      <td>06h 30m</td>\n",
       "      <td>1-stop\\n\\t\\t\\t\\t\\t\\t\\t\\t\\t\\t\\t\\t\\n\\t\\t\\t\\t\\t\\t...</td>\n",
       "      <td>12:15</td>\n",
       "      <td>business</td>\n",
       "      <td>{'source': 'Delhi', 'destination': 'Hyderabad'}</td>\n",
       "      <td>very expensive</td>\n",
       "    </tr>\n",
       "    <tr>\n",
       "      <th>2</th>\n",
       "      <td>9/3/2022</td>\n",
       "      <td>GO FIRST</td>\n",
       "      <td>G8</td>\n",
       "      <td>7537</td>\n",
       "      <td>14:30</td>\n",
       "      <td>08h 10m</td>\n",
       "      <td>1-stop\\n\\t\\t\\t\\t\\t\\t\\t\\t\\t\\t\\t\\t\\n\\t\\t\\t\\t\\t\\t...</td>\n",
       "      <td>22:40</td>\n",
       "      <td>economy</td>\n",
       "      <td>{'source': 'Mumbai', 'destination': 'Hyderabad'}</td>\n",
       "      <td>cheap</td>\n",
       "    </tr>\n",
       "    <tr>\n",
       "      <th>3</th>\n",
       "      <td>15-03-2022</td>\n",
       "      <td>GO FIRST</td>\n",
       "      <td>G8</td>\n",
       "      <td>287</td>\n",
       "      <td>10:40</td>\n",
       "      <td>09h 40m</td>\n",
       "      <td>1-stop\\n\\t\\t\\t\\t\\t\\t\\t\\t\\t\\t\\t\\t\\n\\t\\t\\t\\t\\t\\t...</td>\n",
       "      <td>20:20</td>\n",
       "      <td>economy</td>\n",
       "      <td>{'source': 'Mumbai', 'destination': 'Delhi'}</td>\n",
       "      <td>moderate</td>\n",
       "    </tr>\n",
       "    <tr>\n",
       "      <th>4</th>\n",
       "      <td>22-03-2022</td>\n",
       "      <td>Vistara</td>\n",
       "      <td>UK</td>\n",
       "      <td>826</td>\n",
       "      <td>12:30</td>\n",
       "      <td>07h 25m</td>\n",
       "      <td>1-stop\\n\\t\\t\\t\\t\\t\\t\\t\\t\\t\\t\\t\\t\\n\\t\\t\\t\\t\\t\\t...</td>\n",
       "      <td>19:55</td>\n",
       "      <td>economy</td>\n",
       "      <td>{'source': 'Chennai', 'destination': 'Kolkata'}</td>\n",
       "      <td>moderate</td>\n",
       "    </tr>\n",
       "  </tbody>\n",
       "</table>\n",
       "</div>"
      ],
      "text/plain": [
       "         date   airline ch_code  num_code dep_time time_taken  \\\n",
       "0    5/3/2022   Vistara      UK       812     9:45    10h 10m   \n",
       "1  18-03-2022   Vistara      UK       975     5:45    06h 30m   \n",
       "2    9/3/2022  GO FIRST      G8      7537    14:30    08h 10m   \n",
       "3  15-03-2022  GO FIRST      G8       287    10:40    09h 40m   \n",
       "4  22-03-2022   Vistara      UK       826    12:30    07h 25m   \n",
       "\n",
       "                                                stop arr_time      type  \\\n",
       "0  1-stop\\n\\t\\t\\t\\t\\t\\t\\t\\t\\t\\t\\t\\t\\n\\t\\t\\t\\t\\t\\t...    19:55  business   \n",
       "1  1-stop\\n\\t\\t\\t\\t\\t\\t\\t\\t\\t\\t\\t\\t\\n\\t\\t\\t\\t\\t\\t...    12:15  business   \n",
       "2  1-stop\\n\\t\\t\\t\\t\\t\\t\\t\\t\\t\\t\\t\\t\\n\\t\\t\\t\\t\\t\\t...    22:40   economy   \n",
       "3  1-stop\\n\\t\\t\\t\\t\\t\\t\\t\\t\\t\\t\\t\\t\\n\\t\\t\\t\\t\\t\\t...    20:20   economy   \n",
       "4  1-stop\\n\\t\\t\\t\\t\\t\\t\\t\\t\\t\\t\\t\\t\\n\\t\\t\\t\\t\\t\\t...    19:55   economy   \n",
       "\n",
       "                                               route  TicketCategory  \n",
       "0  {'source': 'Bangalore', 'destination': 'Hydera...  very expensive  \n",
       "1    {'source': 'Delhi', 'destination': 'Hyderabad'}  very expensive  \n",
       "2   {'source': 'Mumbai', 'destination': 'Hyderabad'}           cheap  \n",
       "3       {'source': 'Mumbai', 'destination': 'Delhi'}        moderate  \n",
       "4    {'source': 'Chennai', 'destination': 'Kolkata'}        moderate  "
      ]
     },
     "execution_count": 643,
     "metadata": {},
     "output_type": "execute_result"
    }
   ],
   "source": [
    "df.head()"
   ]
  },
  {
   "cell_type": "code",
   "execution_count": 644,
   "id": "4e27a562",
   "metadata": {},
   "outputs": [
    {
     "name": "stdout",
     "output_type": "stream",
     "text": [
      "<class 'pandas.core.frame.DataFrame'>\n",
      "RangeIndex: 240208 entries, 0 to 240207\n",
      "Data columns (total 11 columns):\n",
      " #   Column          Non-Null Count   Dtype \n",
      "---  ------          --------------   ----- \n",
      " 0   date            240208 non-null  object\n",
      " 1   airline         240208 non-null  object\n",
      " 2   ch_code         240208 non-null  object\n",
      " 3   num_code        240208 non-null  int64 \n",
      " 4   dep_time        240208 non-null  object\n",
      " 5   time_taken      240208 non-null  object\n",
      " 6   stop            240208 non-null  object\n",
      " 7   arr_time        240208 non-null  object\n",
      " 8   type            240208 non-null  object\n",
      " 9   route           240208 non-null  object\n",
      " 10  TicketCategory  240208 non-null  object\n",
      "dtypes: int64(1), object(10)\n",
      "memory usage: 20.2+ MB\n"
     ]
    }
   ],
   "source": [
    "df.info()"
   ]
  },
  {
   "cell_type": "code",
   "execution_count": 645,
   "id": "ec1a4d8e",
   "metadata": {},
   "outputs": [
    {
     "data": {
      "text/plain": [
       "date              0\n",
       "airline           0\n",
       "ch_code           0\n",
       "num_code          0\n",
       "dep_time          0\n",
       "time_taken        0\n",
       "stop              0\n",
       "arr_time          0\n",
       "type              0\n",
       "route             0\n",
       "TicketCategory    0\n",
       "dtype: int64"
      ]
     },
     "execution_count": 645,
     "metadata": {},
     "output_type": "execute_result"
    }
   ],
   "source": [
    "df.isnull().sum()"
   ]
  },
  {
   "cell_type": "code",
   "execution_count": null,
   "id": "e2645bef",
   "metadata": {},
   "outputs": [],
   "source": []
  },
  {
   "cell_type": "code",
   "execution_count": 646,
   "id": "e7db8243",
   "metadata": {},
   "outputs": [
    {
     "data": {
      "text/html": [
       "<div>\n",
       "<style scoped>\n",
       "    .dataframe tbody tr th:only-of-type {\n",
       "        vertical-align: middle;\n",
       "    }\n",
       "\n",
       "    .dataframe tbody tr th {\n",
       "        vertical-align: top;\n",
       "    }\n",
       "\n",
       "    .dataframe thead th {\n",
       "        text-align: right;\n",
       "    }\n",
       "</style>\n",
       "<table border=\"1\" class=\"dataframe\">\n",
       "  <thead>\n",
       "    <tr style=\"text-align: right;\">\n",
       "      <th></th>\n",
       "      <th>num_code</th>\n",
       "    </tr>\n",
       "  </thead>\n",
       "  <tbody>\n",
       "    <tr>\n",
       "      <th>count</th>\n",
       "      <td>240208.000000</td>\n",
       "    </tr>\n",
       "    <tr>\n",
       "      <th>mean</th>\n",
       "      <td>1422.222903</td>\n",
       "    </tr>\n",
       "    <tr>\n",
       "      <th>std</th>\n",
       "      <td>1980.788784</td>\n",
       "    </tr>\n",
       "    <tr>\n",
       "      <th>min</th>\n",
       "      <td>101.000000</td>\n",
       "    </tr>\n",
       "    <tr>\n",
       "      <th>25%</th>\n",
       "      <td>637.000000</td>\n",
       "    </tr>\n",
       "    <tr>\n",
       "      <th>50%</th>\n",
       "      <td>818.000000</td>\n",
       "    </tr>\n",
       "    <tr>\n",
       "      <th>75%</th>\n",
       "      <td>927.000000</td>\n",
       "    </tr>\n",
       "    <tr>\n",
       "      <th>max</th>\n",
       "      <td>9991.000000</td>\n",
       "    </tr>\n",
       "  </tbody>\n",
       "</table>\n",
       "</div>"
      ],
      "text/plain": [
       "            num_code\n",
       "count  240208.000000\n",
       "mean     1422.222903\n",
       "std      1980.788784\n",
       "min       101.000000\n",
       "25%       637.000000\n",
       "50%       818.000000\n",
       "75%       927.000000\n",
       "max      9991.000000"
      ]
     },
     "execution_count": 646,
     "metadata": {},
     "output_type": "execute_result"
    }
   ],
   "source": [
    "df.describe()"
   ]
  },
  {
   "cell_type": "code",
   "execution_count": 647,
   "id": "58093d25",
   "metadata": {
    "scrolled": true
   },
   "outputs": [
    {
     "data": {
      "text/plain": [
       "Index(['date', 'airline', 'ch_code', 'num_code', 'dep_time', 'time_taken',\n",
       "       'stop', 'arr_time', 'type', 'route', 'TicketCategory'],\n",
       "      dtype='object')"
      ]
     },
     "execution_count": 647,
     "metadata": {},
     "output_type": "execute_result"
    }
   ],
   "source": [
    "df.columns"
   ]
  },
  {
   "cell_type": "code",
   "execution_count": 648,
   "id": "fd85f246",
   "metadata": {},
   "outputs": [
    {
     "name": "stdout",
     "output_type": "stream",
     "text": [
      "0          Saturday\n",
      "1            Friday\n",
      "2         Wednesday\n",
      "3           Tuesday\n",
      "4           Tuesday\n",
      "            ...    \n",
      "240203       Friday\n",
      "240204      Tuesday\n",
      "240205    Wednesday\n",
      "240206       Friday\n",
      "240207       Friday\n",
      "Name: Days, Length: 240208, dtype: object\n"
     ]
    }
   ],
   "source": [
    "import datetime\n",
    "dt = df['date']\n",
    "days = []\n",
    "for i in dt:\n",
    "    if('/' in i):\n",
    "        day, month, year = (int(x) for x in i.split('/'))\n",
    "        ans = datetime.date(year, month, day)\n",
    "        days.append(ans.strftime(\"%A\"))\n",
    "    else:\n",
    "        day, month, year = (int(x) for x in i.split('-'))\n",
    "        ans = datetime.date(year, month, day)\n",
    "        days.append(ans.strftime(\"%A\"))\n",
    "df['Days'] = days\n",
    "print(df['Days'])"
   ]
  },
  {
   "cell_type": "code",
   "execution_count": 649,
   "id": "90a7ecac",
   "metadata": {},
   "outputs": [],
   "source": [
    "df['Day'] = pd.to_datetime(df['date']).dt.day"
   ]
  },
  {
   "cell_type": "code",
   "execution_count": 650,
   "id": "2da29d2b",
   "metadata": {},
   "outputs": [],
   "source": [
    "df['Month'] = pd.to_datetime(df['date']).dt.month"
   ]
  },
  {
   "cell_type": "code",
   "execution_count": 651,
   "id": "9d204dcd",
   "metadata": {},
   "outputs": [
    {
     "data": {
      "text/plain": [
       "0         1\n",
       "1         1\n",
       "2         1\n",
       "3         1\n",
       "4         1\n",
       "         ..\n",
       "240203    1\n",
       "240204    1\n",
       "240205    0\n",
       "240206    1\n",
       "240207    1\n",
       "Name: stop, Length: 240208, dtype: int64"
      ]
     },
     "execution_count": 651,
     "metadata": {},
     "output_type": "execute_result"
    }
   ],
   "source": [
    "df['stop'] = df['stop'].apply(retrnNumberOfStops)\n",
    "df['stop']"
   ]
  },
  {
   "cell_type": "code",
   "execution_count": 652,
   "id": "71619f7e",
   "metadata": {},
   "outputs": [
    {
     "data": {
      "text/plain": [
       "0         10.166667\n",
       "1          6.500000\n",
       "2          8.166667\n",
       "3          9.666667\n",
       "4          7.416667\n",
       "            ...    \n",
       "240203     9.416667\n",
       "240204    17.333333\n",
       "240205     2.916667\n",
       "240206    28.250000\n",
       "240207    19.500000\n",
       "Name: time_taken, Length: 240208, dtype: float64"
      ]
     },
     "execution_count": 652,
     "metadata": {},
     "output_type": "execute_result"
    }
   ],
   "source": [
    "df['time_taken'] = df['time_taken'].apply(handlingTimeTaken)\n",
    "df['time_taken']"
   ]
  },
  {
   "cell_type": "markdown",
   "id": "e2c52767",
   "metadata": {},
   "source": [
    "# Applay this function to get column of source and distination    "
   ]
  },
  {
   "cell_type": "code",
   "execution_count": 653,
   "id": "44ad2fc4",
   "metadata": {},
   "outputs": [],
   "source": [
    "df['source'] = df['route'].apply(getCity,args=[0])\n",
    "df['destination'] = df['route'].apply(getCity,args=[1])"
   ]
  },
  {
   "cell_type": "markdown",
   "id": "98a148ba",
   "metadata": {},
   "source": [
    "# get unique of cities "
   ]
  },
  {
   "cell_type": "code",
   "execution_count": 654,
   "id": "259d8465",
   "metadata": {},
   "outputs": [],
   "source": [
    "cities = list(pd.concat([df['source'], df['destination']]).unique())"
   ]
  },
  {
   "cell_type": "code",
   "execution_count": 655,
   "id": "953a23d1",
   "metadata": {},
   "outputs": [],
   "source": [
    "#pip install geopy"
   ]
  },
  {
   "cell_type": "code",
   "execution_count": 656,
   "id": "fdd9aef1",
   "metadata": {
    "scrolled": false
   },
   "outputs": [
    {
     "name": "stdout",
     "output_type": "stream",
     "text": [
      "city of Bangalore \n",
      " latitude: 12.9767936\n",
      " longitude: 77.590082\n",
      "******************************\n",
      "city of Delhi \n",
      " latitude: 28.6517178\n",
      " longitude: 77.2219388\n",
      "******************************\n",
      "city of Mumbai \n",
      " latitude: 19.0759899\n",
      " longitude: 72.8773928\n",
      "******************************\n",
      "city of Chennai \n",
      " latitude: 13.0836939\n",
      " longitude: 80.270186\n",
      "******************************\n",
      "city of Hyderabad \n",
      " latitude: 17.360589\n",
      " longitude: 78.4740613\n",
      "******************************\n",
      "city of Kolkata \n",
      " latitude: 22.5414185\n",
      " longitude: 88.35769124388872\n",
      "******************************\n"
     ]
    }
   ],
   "source": [
    "for i in cities:  \n",
    "    if findLocation(i) != None:\n",
    "        loc = findLocation(i)\n",
    "        longitude.append(loc.longitude)\n",
    "        latitude.append(loc.latitude)   \n",
    "        \n",
    "        print(f\"city of {i} \\n latitude: {loc.latitude}\\n longitude: {loc.longitude}\")\n",
    "        print(\"*\"*30)\n",
    "    else:\n",
    "        latitude.append(np.nan)\n",
    "        longitude.append(np.nan)"
   ]
  },
  {
   "cell_type": "code",
   "execution_count": 657,
   "id": "8f75b727",
   "metadata": {},
   "outputs": [],
   "source": [
    "df['distance'] = df['route'].apply(getDistance)"
   ]
  },
  {
   "cell_type": "code",
   "execution_count": 658,
   "id": "dc0b2a04",
   "metadata": {},
   "outputs": [],
   "source": [
    "df = df.drop(['route','num_code','dep_time','arr_time'],axis=1)"
   ]
  },
  {
   "cell_type": "code",
   "execution_count": 659,
   "id": "9a0d9211",
   "metadata": {
    "scrolled": true
   },
   "outputs": [
    {
     "data": {
      "text/plain": [
       "0         1\n",
       "1         0\n",
       "2         0\n",
       "3         0\n",
       "4         0\n",
       "         ..\n",
       "240203    0\n",
       "240204    0\n",
       "240205    0\n",
       "240206    0\n",
       "240207    0\n",
       "Name: Weekends, Length: 240208, dtype: int64"
      ]
     },
     "execution_count": 659,
     "metadata": {},
     "output_type": "execute_result"
    }
   ],
   "source": [
    "df['Weekends'] = df['Days'].apply(isWeekEndOrNot)\n",
    "df['Weekends']"
   ]
  },
  {
   "cell_type": "code",
   "execution_count": 660,
   "id": "9a2e76b3",
   "metadata": {},
   "outputs": [
    {
     "data": {
      "text/html": [
       "<div>\n",
       "<style scoped>\n",
       "    .dataframe tbody tr th:only-of-type {\n",
       "        vertical-align: middle;\n",
       "    }\n",
       "\n",
       "    .dataframe tbody tr th {\n",
       "        vertical-align: top;\n",
       "    }\n",
       "\n",
       "    .dataframe thead th {\n",
       "        text-align: right;\n",
       "    }\n",
       "</style>\n",
       "<table border=\"1\" class=\"dataframe\">\n",
       "  <thead>\n",
       "    <tr style=\"text-align: right;\">\n",
       "      <th></th>\n",
       "      <th>date</th>\n",
       "      <th>airline</th>\n",
       "      <th>ch_code</th>\n",
       "      <th>time_taken</th>\n",
       "      <th>stop</th>\n",
       "      <th>type</th>\n",
       "      <th>TicketCategory</th>\n",
       "      <th>Days</th>\n",
       "      <th>Day</th>\n",
       "      <th>Month</th>\n",
       "      <th>source</th>\n",
       "      <th>destination</th>\n",
       "      <th>distance</th>\n",
       "      <th>Weekends</th>\n",
       "    </tr>\n",
       "  </thead>\n",
       "  <tbody>\n",
       "    <tr>\n",
       "      <th>0</th>\n",
       "      <td>5/3/2022</td>\n",
       "      <td>Vistara</td>\n",
       "      <td>UK</td>\n",
       "      <td>10.166667</td>\n",
       "      <td>1</td>\n",
       "      <td>business</td>\n",
       "      <td>very expensive</td>\n",
       "      <td>Saturday</td>\n",
       "      <td>3</td>\n",
       "      <td>5</td>\n",
       "      <td>Bangalore</td>\n",
       "      <td>Hyderabad</td>\n",
       "      <td>496.597100</td>\n",
       "      <td>1</td>\n",
       "    </tr>\n",
       "    <tr>\n",
       "      <th>1</th>\n",
       "      <td>18-03-2022</td>\n",
       "      <td>Vistara</td>\n",
       "      <td>UK</td>\n",
       "      <td>6.500000</td>\n",
       "      <td>1</td>\n",
       "      <td>business</td>\n",
       "      <td>very expensive</td>\n",
       "      <td>Friday</td>\n",
       "      <td>18</td>\n",
       "      <td>3</td>\n",
       "      <td>Delhi</td>\n",
       "      <td>Hyderabad</td>\n",
       "      <td>1262.009188</td>\n",
       "      <td>0</td>\n",
       "    </tr>\n",
       "    <tr>\n",
       "      <th>2</th>\n",
       "      <td>9/3/2022</td>\n",
       "      <td>GO FIRST</td>\n",
       "      <td>G8</td>\n",
       "      <td>8.166667</td>\n",
       "      <td>1</td>\n",
       "      <td>economy</td>\n",
       "      <td>cheap</td>\n",
       "      <td>Wednesday</td>\n",
       "      <td>3</td>\n",
       "      <td>9</td>\n",
       "      <td>Mumbai</td>\n",
       "      <td>Hyderabad</td>\n",
       "      <td>621.089378</td>\n",
       "      <td>0</td>\n",
       "    </tr>\n",
       "    <tr>\n",
       "      <th>3</th>\n",
       "      <td>15-03-2022</td>\n",
       "      <td>GO FIRST</td>\n",
       "      <td>G8</td>\n",
       "      <td>9.666667</td>\n",
       "      <td>1</td>\n",
       "      <td>economy</td>\n",
       "      <td>moderate</td>\n",
       "      <td>Tuesday</td>\n",
       "      <td>15</td>\n",
       "      <td>3</td>\n",
       "      <td>Mumbai</td>\n",
       "      <td>Delhi</td>\n",
       "      <td>1152.469723</td>\n",
       "      <td>0</td>\n",
       "    </tr>\n",
       "    <tr>\n",
       "      <th>4</th>\n",
       "      <td>22-03-2022</td>\n",
       "      <td>Vistara</td>\n",
       "      <td>UK</td>\n",
       "      <td>7.416667</td>\n",
       "      <td>1</td>\n",
       "      <td>economy</td>\n",
       "      <td>moderate</td>\n",
       "      <td>Tuesday</td>\n",
       "      <td>22</td>\n",
       "      <td>3</td>\n",
       "      <td>Chennai</td>\n",
       "      <td>Kolkata</td>\n",
       "      <td>1355.257062</td>\n",
       "      <td>0</td>\n",
       "    </tr>\n",
       "  </tbody>\n",
       "</table>\n",
       "</div>"
      ],
      "text/plain": [
       "         date   airline ch_code  time_taken  stop      type  TicketCategory  \\\n",
       "0    5/3/2022   Vistara      UK   10.166667     1  business  very expensive   \n",
       "1  18-03-2022   Vistara      UK    6.500000     1  business  very expensive   \n",
       "2    9/3/2022  GO FIRST      G8    8.166667     1   economy           cheap   \n",
       "3  15-03-2022  GO FIRST      G8    9.666667     1   economy        moderate   \n",
       "4  22-03-2022   Vistara      UK    7.416667     1   economy        moderate   \n",
       "\n",
       "        Days  Day  Month     source destination     distance  Weekends  \n",
       "0   Saturday    3      5  Bangalore   Hyderabad   496.597100         1  \n",
       "1     Friday   18      3      Delhi   Hyderabad  1262.009188         0  \n",
       "2  Wednesday    3      9     Mumbai   Hyderabad   621.089378         0  \n",
       "3    Tuesday   15      3     Mumbai       Delhi  1152.469723         0  \n",
       "4    Tuesday   22      3    Chennai     Kolkata  1355.257062         0  "
      ]
     },
     "execution_count": 660,
     "metadata": {},
     "output_type": "execute_result"
    }
   ],
   "source": [
    "df.head()"
   ]
  },
  {
   "cell_type": "markdown",
   "id": "c3757d47",
   "metadata": {},
   "source": [
    "# Some Visuaization "
   ]
  },
  {
   "cell_type": "code",
   "execution_count": 661,
   "id": "c6da9d67",
   "metadata": {},
   "outputs": [
    {
     "data": {
      "text/plain": [
       "array(['very expensive', 'cheap', 'moderate', 'expensive'], dtype=object)"
      ]
     },
     "execution_count": 661,
     "metadata": {},
     "output_type": "execute_result"
    }
   ],
   "source": [
    "df['TicketCategory'].unique()"
   ]
  },
  {
   "cell_type": "code",
   "execution_count": 662,
   "id": "37135982",
   "metadata": {},
   "outputs": [
    {
     "data": {
      "text/plain": [
       "<AxesSubplot:ylabel='type'>"
      ]
     },
     "execution_count": 662,
     "metadata": {},
     "output_type": "execute_result"
    },
    {
     "data": {
      "image/png": "[encoded data removed]",
      "text/plain": [
       "<Figure size 432x288 with 1 Axes>"
      ]
     },
     "metadata": {},
     "output_type": "display_data"
    }
   ],
   "source": [
    "round((df[\"type\"].value_counts()/df.shape[0])*100,2).plot.pie(autopct='%1.1f%%')"
   ]
  },
  {
   "cell_type": "code",
   "execution_count": 663,
   "id": "af756c25",
   "metadata": {},
   "outputs": [
    {
     "data": {
      "text/plain": [
       "<AxesSubplot:ylabel='ch_code'>"
      ]
     },
     "execution_count": 663,
     "metadata": {},
     "output_type": "execute_result"
    },
    {
     "data": {
      "image/png": "[encoded data removed]",
      "text/plain": [
       "<Figure size 432x288 with 1 Axes>"
      ]
     },
     "metadata": {},
     "output_type": "display_data"
    }
   ],
   "source": [
    "round((df[\"ch_code\"].value_counts()/df.shape[0])*100,2).plot.pie(autopct='%1.1f%%')"
   ]
  },
  {
   "cell_type": "code",
   "execution_count": 664,
   "id": "f10d437e",
   "metadata": {},
   "outputs": [
    {
     "data": {
      "text/plain": [
       "<AxesSubplot:ylabel='TicketCategory'>"
      ]
     },
     "execution_count": 664,
     "metadata": {},
     "output_type": "execute_result"
    },
    {
     "data": {
      "image/png": "[encoded data removed]",
      "text/plain": [
       "<Figure size 432x288 with 1 Axes>"
      ]
     },
     "metadata": {},
     "output_type": "display_data"
    }
   ],
   "source": [
    "round((df[\"TicketCategory\"].value_counts()/df.shape[0])*100,2).plot.pie(autopct='%1.1f%%')"
   ]
  },
  {
   "cell_type": "code",
   "execution_count": 665,
   "id": "b834bdaf",
   "metadata": {},
   "outputs": [
    {
     "data": {
      "text/plain": [
       "<AxesSubplot:ylabel='Weekends'>"
      ]
     },
     "execution_count": 665,
     "metadata": {},
     "output_type": "execute_result"
    },
    {
     "data": {
      "image/png": "[encoded data removed]",
      "text/plain": [
       "<Figure size 432x288 with 1 Axes>"
      ]
     },
     "metadata": {},
     "output_type": "display_data"
    }
   ],
   "source": [
    "round((df[\"Weekends\"].value_counts()/df.shape[0])*100,2).plot.pie(\n",
    "        autopct='%1.1f%%',labels=[\"No\",\"Yes\"])"
   ]
  },
  {
   "cell_type": "code",
   "execution_count": 666,
   "id": "ee9fb8b0",
   "metadata": {},
   "outputs": [
    {
     "data": {
      "text/plain": [
       "<AxesSubplot:ylabel='Days'>"
      ]
     },
     "execution_count": 666,
     "metadata": {},
     "output_type": "execute_result"
    },
    {
     "data": {
      "image/png": "[encoded data removed]",
      "text/plain": [
       "<Figure size 432x288 with 1 Axes>"
      ]
     },
     "metadata": {},
     "output_type": "display_data"
    }
   ],
   "source": [
    "round((df[\"Days\"].value_counts()/df.shape[0])*100,2).plot.pie(autopct='%1.1f%%')"
   ]
  },
  {
   "cell_type": "code",
   "execution_count": 667,
   "id": "de65f86a",
   "metadata": {},
   "outputs": [
    {
     "data": {
      "text/plain": [
       "<AxesSubplot:ylabel='Month'>"
      ]
     },
     "execution_count": 667,
     "metadata": {},
     "output_type": "execute_result"
    },
    {
     "data": {
      "image/png": "[encoded data removed]",
      "text/plain": [
       "<Figure size 432x288 with 1 Axes>"
      ]
     },
     "metadata": {},
     "output_type": "display_data"
    }
   ],
   "source": [
    "round((df[\"Month\"].value_counts()/df.shape[0])*100,2).plot.pie(autopct='%1.1f%%')"
   ]
  },
  {
   "cell_type": "code",
   "execution_count": 668,
   "id": "afe11f2a",
   "metadata": {},
   "outputs": [
    {
     "data": {
      "text/plain": [
       "<AxesSubplot:ylabel='stop'>"
      ]
     },
     "execution_count": 668,
     "metadata": {},
     "output_type": "execute_result"
    },
    {
     "data": {
      "image/png": "[encoded data removed]",
      "text/plain": [
       "<Figure size 432x288 with 1 Axes>"
      ]
     },
     "metadata": {},
     "output_type": "display_data"
    }
   ],
   "source": [
    "round((df[\"stop\"].value_counts()/df.shape[0])*100,2).plot.pie(autopct='%1.1f%%')"
   ]
  },
  {
   "cell_type": "code",
   "execution_count": 669,
   "id": "4dc28292",
   "metadata": {},
   "outputs": [
    {
     "data": {
      "text/plain": [
       "<AxesSubplot:ylabel='source'>"
      ]
     },
     "execution_count": 669,
     "metadata": {},
     "output_type": "execute_result"
    },
    {
     "data": {
      "image/png": "[encoded data removed]",
      "text/plain": [
       "<Figure size 432x288 with 1 Axes>"
      ]
     },
     "metadata": {},
     "output_type": "display_data"
    }
   ],
   "source": [
    "round((df[\"source\"].value_counts()/df.shape[0])*100,2).plot.pie(autopct='%1.1f%%')"
   ]
  },
  {
   "cell_type": "code",
   "execution_count": 670,
   "id": "929e56be",
   "metadata": {},
   "outputs": [
    {
     "data": {
      "text/plain": [
       "<AxesSubplot:ylabel='destination'>"
      ]
     },
     "execution_count": 670,
     "metadata": {},
     "output_type": "execute_result"
    },
    {
     "data": {
      "image/png": "[encoded data removed]",
      "text/plain": [
       "<Figure size 432x288 with 1 Axes>"
      ]
     },
     "metadata": {},
     "output_type": "display_data"
    }
   ],
   "source": [
    "round((df[\"destination\"].value_counts()/df.shape[0])*100,2).plot.pie(autopct='%1.1f%%')"
   ]
  },
  {
   "cell_type": "code",
   "execution_count": 671,
   "id": "2ce74c2c",
   "metadata": {},
   "outputs": [
    {
     "data": {
      "text/plain": [
       "array(['very expensive', 'cheap', 'moderate', 'expensive'], dtype=object)"
      ]
     },
     "execution_count": 671,
     "metadata": {},
     "output_type": "execute_result"
    }
   ],
   "source": [
    "df[\"TicketCategory\"].unique()"
   ]
  },
  {
   "cell_type": "markdown",
   "id": "1bef2453",
   "metadata": {},
   "source": [
    "# Lable Encoding"
   ]
  },
  {
   "cell_type": "code",
   "execution_count": 672,
   "id": "2872b4f5",
   "metadata": {},
   "outputs": [],
   "source": [
    "les = {}\n",
    "for i in ([\"type\",\"airline\",\"ch_code\",\"source\",\"destination\",\"TicketCategory\",\"Days\"]) :\n",
    "    les[i] = OrdinalEncoder(handle_unknown = 'use_encoded_value', unknown_value=np.nan)\n",
    "    df[i] = les[i].fit_transform(np.array(df[i]).reshape(-1,1)) "
   ]
  },
  {
   "cell_type": "code",
   "execution_count": 673,
   "id": "a083dc17",
   "metadata": {},
   "outputs": [
    {
     "data": {
      "text/plain": [
       "array([3., 0., 2., 1.])"
      ]
     },
     "execution_count": 673,
     "metadata": {},
     "output_type": "execute_result"
    }
   ],
   "source": [
    "df[\"TicketCategory\"].unique()"
   ]
  },
  {
   "cell_type": "code",
   "execution_count": 674,
   "id": "104bd292",
   "metadata": {},
   "outputs": [
    {
     "data": {
      "text/html": [
       "<div>\n",
       "<style scoped>\n",
       "    .dataframe tbody tr th:only-of-type {\n",
       "        vertical-align: middle;\n",
       "    }\n",
       "\n",
       "    .dataframe tbody tr th {\n",
       "        vertical-align: top;\n",
       "    }\n",
       "\n",
       "    .dataframe thead th {\n",
       "        text-align: right;\n",
       "    }\n",
       "</style>\n",
       "<table border=\"1\" class=\"dataframe\">\n",
       "  <thead>\n",
       "    <tr style=\"text-align: right;\">\n",
       "      <th></th>\n",
       "      <th>date</th>\n",
       "      <th>airline</th>\n",
       "      <th>ch_code</th>\n",
       "      <th>time_taken</th>\n",
       "      <th>stop</th>\n",
       "      <th>type</th>\n",
       "      <th>TicketCategory</th>\n",
       "      <th>Days</th>\n",
       "      <th>Day</th>\n",
       "      <th>Month</th>\n",
       "      <th>source</th>\n",
       "      <th>destination</th>\n",
       "      <th>distance</th>\n",
       "      <th>Weekends</th>\n",
       "    </tr>\n",
       "  </thead>\n",
       "  <tbody>\n",
       "    <tr>\n",
       "      <th>0</th>\n",
       "      <td>5/3/2022</td>\n",
       "      <td>7.0</td>\n",
       "      <td>7.0</td>\n",
       "      <td>10.166667</td>\n",
       "      <td>1</td>\n",
       "      <td>0.0</td>\n",
       "      <td>3.0</td>\n",
       "      <td>2.0</td>\n",
       "      <td>3</td>\n",
       "      <td>5</td>\n",
       "      <td>0.0</td>\n",
       "      <td>3.0</td>\n",
       "      <td>496.597100</td>\n",
       "      <td>1</td>\n",
       "    </tr>\n",
       "    <tr>\n",
       "      <th>1</th>\n",
       "      <td>18-03-2022</td>\n",
       "      <td>7.0</td>\n",
       "      <td>7.0</td>\n",
       "      <td>6.500000</td>\n",
       "      <td>1</td>\n",
       "      <td>0.0</td>\n",
       "      <td>3.0</td>\n",
       "      <td>0.0</td>\n",
       "      <td>18</td>\n",
       "      <td>3</td>\n",
       "      <td>2.0</td>\n",
       "      <td>3.0</td>\n",
       "      <td>1262.009188</td>\n",
       "      <td>0</td>\n",
       "    </tr>\n",
       "    <tr>\n",
       "      <th>2</th>\n",
       "      <td>9/3/2022</td>\n",
       "      <td>2.0</td>\n",
       "      <td>3.0</td>\n",
       "      <td>8.166667</td>\n",
       "      <td>1</td>\n",
       "      <td>1.0</td>\n",
       "      <td>0.0</td>\n",
       "      <td>6.0</td>\n",
       "      <td>3</td>\n",
       "      <td>9</td>\n",
       "      <td>5.0</td>\n",
       "      <td>3.0</td>\n",
       "      <td>621.089378</td>\n",
       "      <td>0</td>\n",
       "    </tr>\n",
       "    <tr>\n",
       "      <th>3</th>\n",
       "      <td>15-03-2022</td>\n",
       "      <td>2.0</td>\n",
       "      <td>3.0</td>\n",
       "      <td>9.666667</td>\n",
       "      <td>1</td>\n",
       "      <td>1.0</td>\n",
       "      <td>2.0</td>\n",
       "      <td>5.0</td>\n",
       "      <td>15</td>\n",
       "      <td>3</td>\n",
       "      <td>5.0</td>\n",
       "      <td>2.0</td>\n",
       "      <td>1152.469723</td>\n",
       "      <td>0</td>\n",
       "    </tr>\n",
       "    <tr>\n",
       "      <th>4</th>\n",
       "      <td>22-03-2022</td>\n",
       "      <td>7.0</td>\n",
       "      <td>7.0</td>\n",
       "      <td>7.416667</td>\n",
       "      <td>1</td>\n",
       "      <td>1.0</td>\n",
       "      <td>2.0</td>\n",
       "      <td>5.0</td>\n",
       "      <td>22</td>\n",
       "      <td>3</td>\n",
       "      <td>1.0</td>\n",
       "      <td>4.0</td>\n",
       "      <td>1355.257062</td>\n",
       "      <td>0</td>\n",
       "    </tr>\n",
       "  </tbody>\n",
       "</table>\n",
       "</div>"
      ],
      "text/plain": [
       "         date  airline  ch_code  time_taken  stop  type  TicketCategory  Days  \\\n",
       "0    5/3/2022      7.0      7.0   10.166667     1   0.0             3.0   2.0   \n",
       "1  18-03-2022      7.0      7.0    6.500000     1   0.0             3.0   0.0   \n",
       "2    9/3/2022      2.0      3.0    8.166667     1   1.0             0.0   6.0   \n",
       "3  15-03-2022      2.0      3.0    9.666667     1   1.0             2.0   5.0   \n",
       "4  22-03-2022      7.0      7.0    7.416667     1   1.0             2.0   5.0   \n",
       "\n",
       "   Day  Month  source  destination     distance  Weekends  \n",
       "0    3      5     0.0          3.0   496.597100         1  \n",
       "1   18      3     2.0          3.0  1262.009188         0  \n",
       "2    3      9     5.0          3.0   621.089378         0  \n",
       "3   15      3     5.0          2.0  1152.469723         0  \n",
       "4   22      3     1.0          4.0  1355.257062         0  "
      ]
     },
     "execution_count": 674,
     "metadata": {},
     "output_type": "execute_result"
    }
   ],
   "source": [
    "df.head()"
   ]
  },
  {
   "cell_type": "code",
   "execution_count": 675,
   "id": "ee2f0fa6",
   "metadata": {},
   "outputs": [
    {
     "data": {
      "image/png": "[encoded data removed]",
      "text/plain": [
       "<Figure size 864x720 with 2 Axes>"
      ]
     },
     "metadata": {
      "needs_background": "light"
     },
     "output_type": "display_data"
    }
   ],
   "source": [
    "plt.figure(figsize=(12,10))\n",
    "p=sns.heatmap(df.corr(), annot=True,cmap ='RdYlGn')"
   ]
  },
  {
   "cell_type": "code",
   "execution_count": 676,
   "id": "457ff983",
   "metadata": {},
   "outputs": [
    {
     "data": {
      "text/plain": [
       "Index(['date', 'airline', 'ch_code', 'time_taken', 'stop', 'type',\n",
       "       'TicketCategory', 'Days', 'Day', 'Month', 'source', 'destination',\n",
       "       'distance', 'Weekends'],\n",
       "      dtype='object')"
      ]
     },
     "execution_count": 676,
     "metadata": {},
     "output_type": "execute_result"
    }
   ],
   "source": [
    "df.columns"
   ]
  },
  {
   "cell_type": "code",
   "execution_count": 677,
   "id": "10553c74",
   "metadata": {},
   "outputs": [],
   "source": [
    "df = df.drop(['date'],  axis='columns')"
   ]
  },
  {
   "cell_type": "code",
   "execution_count": 678,
   "id": "61913425",
   "metadata": {},
   "outputs": [],
   "source": [
    "X = df.drop('TicketCategory', axis='columns')\n",
    "y = df.TicketCategory"
   ]
  },
  {
   "cell_type": "code",
   "execution_count": 679,
   "id": "ab4a1dfa",
   "metadata": {},
   "outputs": [],
   "source": [
    "X_train, X_test, y_train, y_test = train_test_split(X, y, test_size=0.2, random_state=45)"
   ]
  },
  {
   "cell_type": "code",
   "execution_count": 680,
   "id": "71fe8fd0",
   "metadata": {},
   "outputs": [],
   "source": [
    "scaler = MinMaxScaler()"
   ]
  },
  {
   "cell_type": "code",
   "execution_count": 681,
   "id": "f4e2433b",
   "metadata": {},
   "outputs": [],
   "source": [
    "X_train= scaler.fit_transform(X_train)\n",
    "X_test = scaler.transform(X_test)"
   ]
  },
  {
   "cell_type": "code",
   "execution_count": 682,
   "id": "071404e7",
   "metadata": {},
   "outputs": [],
   "source": [
    "dump(scaler, open('minmaxScaler.pkl', 'wb'))"
   ]
  },
  {
   "cell_type": "code",
   "execution_count": 683,
   "id": "728c0c8d",
   "metadata": {},
   "outputs": [
    {
     "name": "stdout",
     "output_type": "stream",
     "text": [
      "(192166, 12)\n",
      "(48042, 12)\n"
     ]
    }
   ],
   "source": [
    "print(X_train.shape)\n",
    "print(X_test.shape)"
   ]
  },
  {
   "cell_type": "code",
   "execution_count": 684,
   "id": "6bdf32bf",
   "metadata": {},
   "outputs": [],
   "source": [
    "features_names = ['airline', 'time_taken', 'stop', 'type', 'source', 'destination', 'Month',\n",
    "       'distance', 'Weekends','ch_code']"
   ]
  },
  {
   "cell_type": "markdown",
   "id": "dd5fe6a5",
   "metadata": {},
   "source": [
    "# Model builiding"
   ]
  },
  {
   "cell_type": "markdown",
   "id": "eafbc6dc",
   "metadata": {},
   "source": [
    "# Naive Bayes Algorthim"
   ]
  },
  {
   "cell_type": "code",
   "execution_count": 685,
   "id": "b07e4cb7",
   "metadata": {},
   "outputs": [
    {
     "data": {
      "text/plain": [
       "GaussianNB()"
      ]
     },
     "execution_count": 685,
     "metadata": {},
     "output_type": "execute_result"
    }
   ],
   "source": [
    "nb = GaussianNB()\n",
    "nb.fit(X_train, y_train)"
   ]
  },
  {
   "cell_type": "code",
   "execution_count": 686,
   "id": "4d3186c3",
   "metadata": {},
   "outputs": [
    {
     "data": {
      "text/plain": [
       "array([0., 3., 0., ..., 3., 3., 0.])"
      ]
     },
     "execution_count": 686,
     "metadata": {},
     "output_type": "execute_result"
    }
   ],
   "source": [
    "nb.predict(X_test)"
   ]
  },
  {
   "cell_type": "code",
   "execution_count": 687,
   "id": "9307e49f",
   "metadata": {},
   "outputs": [
    {
     "data": {
      "text/plain": [
       "0.4734240188170644"
      ]
     },
     "execution_count": 687,
     "metadata": {},
     "output_type": "execute_result"
    }
   ],
   "source": [
    "nb.score(X_train,y_train)"
   ]
  },
  {
   "cell_type": "code",
   "execution_count": 688,
   "id": "ea3444d0",
   "metadata": {},
   "outputs": [
    {
     "data": {
      "text/plain": [
       "0.4788934682153116"
      ]
     },
     "execution_count": 688,
     "metadata": {},
     "output_type": "execute_result"
    }
   ],
   "source": [
    "nb.score(X_test,y_test)"
   ]
  },
  {
   "cell_type": "code",
   "execution_count": 689,
   "id": "dc650504",
   "metadata": {},
   "outputs": [
    {
     "data": {
      "text/plain": [
       "0.01"
      ]
     },
     "execution_count": 689,
     "metadata": {},
     "output_type": "execute_result"
    }
   ],
   "source": [
    "error = abs(round(nb.score(X_test, y_test) - nb.score(X_train, y_train), 2))\n",
    "error"
   ]
  },
  {
   "cell_type": "code",
   "execution_count": 690,
   "id": "c539d11b",
   "metadata": {},
   "outputs": [],
   "source": [
    " ytest_pred_nb = nb.predict(X_test)"
   ]
  },
  {
   "cell_type": "code",
   "execution_count": 691,
   "id": "dcdecd9b",
   "metadata": {},
   "outputs": [],
   "source": [
    "ytrain_pred_nb = nb.predict(X_train)"
   ]
  },
  {
   "cell_type": "code",
   "execution_count": 692,
   "id": "03930c08",
   "metadata": {},
   "outputs": [
    {
     "data": {
      "text/plain": [
       "0.4788934682153116"
      ]
     },
     "execution_count": 692,
     "metadata": {},
     "output_type": "execute_result"
    }
   ],
   "source": [
    "metrics.accuracy_score(y_test,ytest_pred_nb)"
   ]
  },
  {
   "cell_type": "code",
   "execution_count": 693,
   "id": "c0baf962",
   "metadata": {},
   "outputs": [
    {
     "data": {
      "text/plain": [
       "array([[13052,     0,     0,     0],\n",
       "       [   14,   438,     0,  3987],\n",
       "       [19899,   846,     0,    96],\n",
       "       [    0,   193,     0,  9517]], dtype=int64)"
      ]
     },
     "execution_count": 693,
     "metadata": {},
     "output_type": "execute_result"
    }
   ],
   "source": [
    "conf_mat_nb =confusion_matrix(y_test,ytest_pred_nb)\n",
    "conf_mat_nb"
   ]
  },
  {
   "cell_type": "code",
   "execution_count": 694,
   "id": "b942c3d3",
   "metadata": {},
   "outputs": [
    {
     "data": {
      "image/png": "[encoded data removed]",
      "text/plain": [
       "<Figure size 864x360 with 1 Axes>"
      ]
     },
     "metadata": {
      "needs_background": "light"
     },
     "output_type": "display_data"
    }
   ],
   "source": [
    "plot_confusion_matrix(conf_mat_nb,class_names=[\"very expensive\",\"cheap\",\"moderate\",\"expensive\"],figsize=(12,5)); #fn"
   ]
  },
  {
   "cell_type": "code",
   "execution_count": 695,
   "id": "3c1db0dc",
   "metadata": {},
   "outputs": [],
   "source": [
    "dump(nb, open('naiveBoost.pkl', 'wb'))"
   ]
  },
  {
   "cell_type": "code",
   "execution_count": 696,
   "id": "b7509abe",
   "metadata": {},
   "outputs": [],
   "source": [
    "## VotingClassifier"
   ]
  },
  {
   "cell_type": "markdown",
   "id": "92faaa3b",
   "metadata": {},
   "source": [
    "# Logistic Regresssion Model "
   ]
  },
  {
   "cell_type": "code",
   "execution_count": 697,
   "id": "d31df52e",
   "metadata": {},
   "outputs": [],
   "source": [
    "from sklearn.linear_model import LogisticRegression"
   ]
  },
  {
   "cell_type": "code",
   "execution_count": 698,
   "id": "42ae8860",
   "metadata": {},
   "outputs": [],
   "source": [
    "log = LogisticRegression()"
   ]
  },
  {
   "cell_type": "code",
   "execution_count": 699,
   "id": "9603b315",
   "metadata": {},
   "outputs": [
    {
     "name": "stderr",
     "output_type": "stream",
     "text": [
      "C:\\Users\\Emad\\anaconda3\\lib\\site-packages\\sklearn\\linear_model\\_logistic.py:763: ConvergenceWarning: lbfgs failed to converge (status=1):\n",
      "STOP: TOTAL NO. of ITERATIONS REACHED LIMIT.\n",
      "\n",
      "Increase the number of iterations (max_iter) or scale the data as shown in:\n",
      "    https://scikit-learn.org/stable/modules/preprocessing.html\n",
      "Please also refer to the documentation for alternative solver options:\n",
      "    https://scikit-learn.org/stable/modules/linear_model.html#logistic-regression\n",
      "  n_iter_i = _check_optimize_result(\n"
     ]
    },
    {
     "data": {
      "text/plain": [
       "LogisticRegression()"
      ]
     },
     "execution_count": 699,
     "metadata": {},
     "output_type": "execute_result"
    }
   ],
   "source": [
    "log.fit(X_train,y_train)"
   ]
  },
  {
   "cell_type": "code",
   "execution_count": 700,
   "id": "59232573",
   "metadata": {},
   "outputs": [
    {
     "data": {
      "text/plain": [
       "0.6865106210255716"
      ]
     },
     "execution_count": 700,
     "metadata": {},
     "output_type": "execute_result"
    }
   ],
   "source": [
    "log.score(X_train,y_train)"
   ]
  },
  {
   "cell_type": "code",
   "execution_count": 701,
   "id": "8b5ad581",
   "metadata": {},
   "outputs": [
    {
     "data": {
      "text/plain": [
       "0.6896465592606469"
      ]
     },
     "execution_count": 701,
     "metadata": {},
     "output_type": "execute_result"
    }
   ],
   "source": [
    "log.score(X_test , y_test)"
   ]
  },
  {
   "cell_type": "code",
   "execution_count": 702,
   "id": "9fac3edf",
   "metadata": {},
   "outputs": [
    {
     "data": {
      "text/plain": [
       "0.0"
      ]
     },
     "execution_count": 702,
     "metadata": {},
     "output_type": "execute_result"
    }
   ],
   "source": [
    "error = abs(round(log.score(X_test, y_test) - log.score(X_train, y_train), 2))\n",
    "error"
   ]
  },
  {
   "cell_type": "code",
   "execution_count": 703,
   "id": "35bcb50a",
   "metadata": {},
   "outputs": [],
   "source": [
    "ytest_pred_log = log.predict(X_test)"
   ]
  },
  {
   "cell_type": "code",
   "execution_count": 704,
   "id": "8f8d2912",
   "metadata": {},
   "outputs": [],
   "source": [
    "ytrain_pred_log = log.predict(X_train)"
   ]
  },
  {
   "cell_type": "code",
   "execution_count": 705,
   "id": "5498b3da",
   "metadata": {},
   "outputs": [
    {
     "data": {
      "text/plain": [
       "0.6896465592606469"
      ]
     },
     "execution_count": 705,
     "metadata": {},
     "output_type": "execute_result"
    }
   ],
   "source": [
    "metrics.accuracy_score(y_test,ytest_pred_log)"
   ]
  },
  {
   "cell_type": "code",
   "execution_count": 706,
   "id": "41f83ac6",
   "metadata": {},
   "outputs": [
    {
     "data": {
      "text/plain": [
       "array([[ 5901,     0,  7151,     0],\n",
       "       [    4,   918,   318,  3199],\n",
       "       [ 2943,    98, 17727,    73],\n",
       "       [    0,  1118,     6,  8586]], dtype=int64)"
      ]
     },
     "execution_count": 706,
     "metadata": {},
     "output_type": "execute_result"
    }
   ],
   "source": [
    "conf_mat_log =confusion_matrix(y_test,ytest_pred_log)\n",
    "conf_mat_log"
   ]
  },
  {
   "cell_type": "code",
   "execution_count": 707,
   "id": "b6e53e1f",
   "metadata": {
    "scrolled": false
   },
   "outputs": [
    {
     "data": {
      "image/png": "[encoded data removed]",
      "text/plain": [
       "<Figure size 864x360 with 1 Axes>"
      ]
     },
     "metadata": {
      "needs_background": "light"
     },
     "output_type": "display_data"
    }
   ],
   "source": [
    "plot_confusion_matrix(conf_mat_log,class_names=[\"very expensive\",\"cheap\",\"moderate\",\"expensive\"],figsize=(12,5)); #fn"
   ]
  },
  {
   "cell_type": "code",
   "execution_count": 708,
   "id": "e7bbd245",
   "metadata": {},
   "outputs": [],
   "source": [
    "dump(log, open('Logistic.pkl', 'wb'))"
   ]
  },
  {
   "cell_type": "markdown",
   "id": "fda224c6",
   "metadata": {},
   "source": [
    "# KNN Algorthim"
   ]
  },
  {
   "cell_type": "code",
   "execution_count": 709,
   "id": "38eb6bbe",
   "metadata": {},
   "outputs": [
    {
     "data": {
      "text/plain": [
       "KNeighborsClassifier()"
      ]
     },
     "execution_count": 709,
     "metadata": {},
     "output_type": "execute_result"
    }
   ],
   "source": [
    "knn = KNeighborsClassifier()\n",
    "knn.fit(X_train, y_train)"
   ]
  },
  {
   "cell_type": "code",
   "execution_count": 710,
   "id": "889fbde0",
   "metadata": {},
   "outputs": [
    {
     "data": {
      "text/plain": [
       "array([2., 3., 2., ..., 3., 1., 2.])"
      ]
     },
     "execution_count": 710,
     "metadata": {},
     "output_type": "execute_result"
    }
   ],
   "source": [
    "knn.predict(X_test)"
   ]
  },
  {
   "cell_type": "code",
   "execution_count": 711,
   "id": "2f66b518",
   "metadata": {},
   "outputs": [
    {
     "data": {
      "text/plain": [
       "0.8836630829595246"
      ]
     },
     "execution_count": 711,
     "metadata": {},
     "output_type": "execute_result"
    }
   ],
   "source": [
    "knn.score(X_train,y_train)"
   ]
  },
  {
   "cell_type": "code",
   "execution_count": 712,
   "id": "88d256a8",
   "metadata": {},
   "outputs": [
    {
     "data": {
      "text/plain": [
       "0.8369135339910911"
      ]
     },
     "execution_count": 712,
     "metadata": {},
     "output_type": "execute_result"
    }
   ],
   "source": [
    "knn.score(X_test,y_test)"
   ]
  },
  {
   "cell_type": "code",
   "execution_count": 713,
   "id": "b3eb1785",
   "metadata": {},
   "outputs": [
    {
     "data": {
      "text/plain": [
       "0.05"
      ]
     },
     "execution_count": 713,
     "metadata": {},
     "output_type": "execute_result"
    }
   ],
   "source": [
    "error = abs(round(knn.score(X_test, y_test) - knn.score(X_train, y_train), 2))\n",
    "error"
   ]
  },
  {
   "cell_type": "code",
   "execution_count": 714,
   "id": "a5103cd8",
   "metadata": {},
   "outputs": [],
   "source": [
    "ytest_pred_knn = knn.predict(X_test)"
   ]
  },
  {
   "cell_type": "code",
   "execution_count": 715,
   "id": "f917a02f",
   "metadata": {},
   "outputs": [],
   "source": [
    "ytrain_pred_knn = knn.predict(X_train)"
   ]
  },
  {
   "cell_type": "code",
   "execution_count": 716,
   "id": "b0ae0c25",
   "metadata": {},
   "outputs": [
    {
     "data": {
      "text/plain": [
       "0.8369135339910911"
      ]
     },
     "execution_count": 716,
     "metadata": {},
     "output_type": "execute_result"
    }
   ],
   "source": [
    "metrics.accuracy_score(y_test,ytest_pred_knn)"
   ]
  },
  {
   "cell_type": "code",
   "execution_count": 717,
   "id": "de4a0d9b",
   "metadata": {},
   "outputs": [
    {
     "data": {
      "text/plain": [
       "array([[10682,     0,  2370,     0],\n",
       "       [    1,  2636,    85,  1717],\n",
       "       [ 2407,   158, 18243,    33],\n",
       "       [    0,  1056,     8,  8646]], dtype=int64)"
      ]
     },
     "execution_count": 717,
     "metadata": {},
     "output_type": "execute_result"
    }
   ],
   "source": [
    "metrics.confusion_matrix (y_test,ytest_pred_knn)"
   ]
  },
  {
   "cell_type": "code",
   "execution_count": 718,
   "id": "d3894e7a",
   "metadata": {},
   "outputs": [
    {
     "data": {
      "text/plain": [
       "array([[10682,     0,  2370,     0],\n",
       "       [    1,  2636,    85,  1717],\n",
       "       [ 2407,   158, 18243,    33],\n",
       "       [    0,  1056,     8,  8646]], dtype=int64)"
      ]
     },
     "execution_count": 718,
     "metadata": {},
     "output_type": "execute_result"
    }
   ],
   "source": [
    "conf_mat_knn =confusion_matrix(y_test,ytest_pred_knn)\n",
    "conf_mat_knn"
   ]
  },
  {
   "cell_type": "code",
   "execution_count": 719,
   "id": "761ee062",
   "metadata": {},
   "outputs": [
    {
     "data": {
      "image/png": "[encoded data removed]",
      "text/plain": [
       "<Figure size 864x360 with 1 Axes>"
      ]
     },
     "metadata": {
      "needs_background": "light"
     },
     "output_type": "display_data"
    }
   ],
   "source": [
    "plot_confusion_matrix(conf_mat_knn,class_names=[\"very expensive\",\"cheap\",\"moderate\",\"expensive\"],figsize=(12,5)); #fn"
   ]
  },
  {
   "cell_type": "code",
   "execution_count": 720,
   "id": "256b26ea",
   "metadata": {},
   "outputs": [],
   "source": [
    "dump(knn, open('knn.pkl', 'wb'))"
   ]
  },
  {
   "cell_type": "markdown",
   "id": "43747952",
   "metadata": {},
   "source": [
    "# Decision Tree Classifier"
   ]
  },
  {
   "cell_type": "code",
   "execution_count": 721,
   "id": "4307f803",
   "metadata": {},
   "outputs": [],
   "source": [
    "from sklearn.tree import DecisionTreeClassifier"
   ]
  },
  {
   "cell_type": "code",
   "execution_count": 722,
   "id": "18e6a721",
   "metadata": {},
   "outputs": [],
   "source": [
    "dtc = DecisionTreeClassifier(criterion = 'entropy').fit(X_train, y_train)"
   ]
  },
  {
   "cell_type": "code",
   "execution_count": 723,
   "id": "97b95b3e",
   "metadata": {},
   "outputs": [
    {
     "data": {
      "text/plain": [
       "0.9898577271733814"
      ]
     },
     "execution_count": 723,
     "metadata": {},
     "output_type": "execute_result"
    }
   ],
   "source": [
    "dtc.score(X_train,y_train)"
   ]
  },
  {
   "cell_type": "code",
   "execution_count": 724,
   "id": "81132935",
   "metadata": {},
   "outputs": [
    {
     "data": {
      "text/plain": [
       "array([2., 3., 2., ..., 3., 1., 2.])"
      ]
     },
     "execution_count": 724,
     "metadata": {},
     "output_type": "execute_result"
    }
   ],
   "source": [
    "dtc.predict(X_test)"
   ]
  },
  {
   "cell_type": "code",
   "execution_count": 725,
   "id": "c050d55d",
   "metadata": {},
   "outputs": [
    {
     "data": {
      "text/plain": [
       "0.9243994837850215"
      ]
     },
     "execution_count": 725,
     "metadata": {},
     "output_type": "execute_result"
    }
   ],
   "source": [
    "dtc.score(X_test, y_test)"
   ]
  },
  {
   "cell_type": "code",
   "execution_count": 726,
   "id": "2d45d741",
   "metadata": {},
   "outputs": [
    {
     "data": {
      "text/plain": [
       "0.07"
      ]
     },
     "execution_count": 726,
     "metadata": {},
     "output_type": "execute_result"
    }
   ],
   "source": [
    "error = abs(round(dtc.score(X_test, y_test) - dtc.score(X_train, y_train), 2))\n",
    "error"
   ]
  },
  {
   "cell_type": "code",
   "execution_count": 727,
   "id": "9949b2d1",
   "metadata": {},
   "outputs": [],
   "source": [
    "ytest_pred_dtc = dtc.predict(X_test)"
   ]
  },
  {
   "cell_type": "code",
   "execution_count": 728,
   "id": "a00c3ac3",
   "metadata": {},
   "outputs": [],
   "source": [
    "ytrain_pred_dtc = dtc.predict(X_train)"
   ]
  },
  {
   "cell_type": "code",
   "execution_count": 729,
   "id": "b2828a96",
   "metadata": {},
   "outputs": [
    {
     "data": {
      "text/plain": [
       "0.9243994837850215"
      ]
     },
     "execution_count": 729,
     "metadata": {},
     "output_type": "execute_result"
    }
   ],
   "source": [
    "metrics.accuracy_score(y_test,ytest_pred_dtc)"
   ]
  },
  {
   "cell_type": "code",
   "execution_count": 730,
   "id": "c3176970",
   "metadata": {},
   "outputs": [
    {
     "data": {
      "text/plain": [
       "array([[11738,     0,  1314,     0],\n",
       "       [    1,  4023,    81,   334],\n",
       "       [ 1375,   108, 19343,    15],\n",
       "       [    0,   390,    14,  9306]], dtype=int64)"
      ]
     },
     "execution_count": 730,
     "metadata": {},
     "output_type": "execute_result"
    }
   ],
   "source": [
    "metrics.confusion_matrix (y_test,ytest_pred_dtc)"
   ]
  },
  {
   "cell_type": "code",
   "execution_count": 731,
   "id": "c7172f0f",
   "metadata": {},
   "outputs": [
    {
     "data": {
      "text/plain": [
       "array([[11738,     0,  1314,     0],\n",
       "       [    1,  4023,    81,   334],\n",
       "       [ 1375,   108, 19343,    15],\n",
       "       [    0,   390,    14,  9306]], dtype=int64)"
      ]
     },
     "execution_count": 731,
     "metadata": {},
     "output_type": "execute_result"
    }
   ],
   "source": [
    "conf_mat_dtc =confusion_matrix(y_test,ytest_pred_dtc)\n",
    "conf_mat_dtc"
   ]
  },
  {
   "cell_type": "code",
   "execution_count": 732,
   "id": "3e5def99",
   "metadata": {},
   "outputs": [
    {
     "data": {
      "image/png": "[encoded data removed]",
      "text/plain": [
       "<Figure size 864x360 with 1 Axes>"
      ]
     },
     "metadata": {
      "needs_background": "light"
     },
     "output_type": "display_data"
    }
   ],
   "source": [
    "plot_confusion_matrix(conf_mat_dtc,class_names=[\"very expensive\",\"cheap\",\"moderate\",\"expensive\"],figsize=(12,5)); #fn"
   ]
  },
  {
   "cell_type": "code",
   "execution_count": 733,
   "id": "956b738c",
   "metadata": {},
   "outputs": [],
   "source": [
    "dump(dtc, open('DecisionTree.pkl', 'wb'))"
   ]
  },
  {
   "cell_type": "markdown",
   "id": "bd7bbddd",
   "metadata": {},
   "source": [
    "# XGBoost Classifier"
   ]
  },
  {
   "cell_type": "code",
   "execution_count": 734,
   "id": "0738a4d4",
   "metadata": {},
   "outputs": [],
   "source": [
    "#pip install xgboost"
   ]
  },
  {
   "cell_type": "code",
   "execution_count": 735,
   "id": "3869539a",
   "metadata": {
    "id": "ooM67_FXq31T"
   },
   "outputs": [],
   "source": [
    "xgb = XGBClassifier(objective= 'binary:logistic', learning_rate=0.9, n_estimators=400, max_depth=5 ,max_leaves= 2,random_state= 45)"
   ]
  },
  {
   "cell_type": "code",
   "execution_count": 736,
   "id": "752d8b3f",
   "metadata": {
    "id": "0FfxOHgHq31T"
   },
   "outputs": [
    {
     "data": {
      "text/plain": [
       "XGBClassifier(base_score=0.5, booster='gbtree', callbacks=None,\n",
       "              colsample_bylevel=1, colsample_bynode=1, colsample_bytree=1,\n",
       "              early_stopping_rounds=None, enable_categorical=False,\n",
       "              eval_metric=None, gamma=0, gpu_id=-1, grow_policy='depthwise',\n",
       "              importance_type=None, interaction_constraints='',\n",
       "              learning_rate=0.9, max_bin=256, max_cat_to_onehot=4,\n",
       "              max_delta_step=0, max_depth=5, max_leaves=2, min_child_weight=1,\n",
       "              missing=nan, monotone_constraints='()', n_estimators=400,\n",
       "              n_jobs=0, num_parallel_tree=1, objective='multi:softprob',\n",
       "              predictor='auto', random_state=45, reg_alpha=0, ...)"
      ]
     },
     "execution_count": 736,
     "metadata": {},
     "output_type": "execute_result"
    }
   ],
   "source": [
    "xgb.fit(X_train,y_train)"
   ]
  },
  {
   "cell_type": "code",
   "execution_count": 737,
   "id": "ecdd245f",
   "metadata": {},
   "outputs": [
    {
     "data": {
      "text/plain": [
       "0.970312125974418"
      ]
     },
     "execution_count": 737,
     "metadata": {},
     "output_type": "execute_result"
    }
   ],
   "source": [
    "xgb.score(X_train,y_train)"
   ]
  },
  {
   "cell_type": "code",
   "execution_count": 738,
   "id": "98891d50",
   "metadata": {},
   "outputs": [
    {
     "data": {
      "text/plain": [
       "0.9444236293243412"
      ]
     },
     "execution_count": 738,
     "metadata": {},
     "output_type": "execute_result"
    }
   ],
   "source": [
    "xgb.score(X_test,y_test)"
   ]
  },
  {
   "cell_type": "code",
   "execution_count": 739,
   "id": "6f1a99fc",
   "metadata": {
    "id": "H-IHCi39q31f"
   },
   "outputs": [
    {
     "data": {
      "image/png": "[encoded data removed]",
      "text/plain": [
       "<Figure size 432x288 with 1 Axes>"
      ]
     },
     "metadata": {
      "needs_background": "light"
     },
     "output_type": "display_data"
    }
   ],
   "source": [
    "f_importances(abs(xgb.feature_importances_), features_names, top=9)\n"
   ]
  },
  {
   "cell_type": "code",
   "execution_count": 740,
   "id": "acdbb26c",
   "metadata": {},
   "outputs": [],
   "source": [
    "ytest_pred = xgb.predict(X_test)"
   ]
  },
  {
   "cell_type": "code",
   "execution_count": 741,
   "id": "89d68641",
   "metadata": {},
   "outputs": [],
   "source": [
    "ytrain_pred = xgb.predict(X_train)"
   ]
  },
  {
   "cell_type": "code",
   "execution_count": 742,
   "id": "76e5df1e",
   "metadata": {},
   "outputs": [
    {
     "data": {
      "text/plain": [
       "0.0259"
      ]
     },
     "execution_count": 742,
     "metadata": {},
     "output_type": "execute_result"
    }
   ],
   "source": [
    "error = abs(round(xgb.score(X_test, y_test) - xgb.score(X_train, y_train), 4))\n",
    "error"
   ]
  },
  {
   "cell_type": "code",
   "execution_count": 743,
   "id": "5f3a0ceb",
   "metadata": {},
   "outputs": [],
   "source": [
    "yhat_test = pd.DataFrame(ytest_pred, columns=['Predicted'])"
   ]
  },
  {
   "cell_type": "code",
   "execution_count": 744,
   "id": "df203b48",
   "metadata": {},
   "outputs": [
    {
     "data": {
      "text/html": [
       "<div>\n",
       "<style scoped>\n",
       "    .dataframe tbody tr th:only-of-type {\n",
       "        vertical-align: middle;\n",
       "    }\n",
       "\n",
       "    .dataframe tbody tr th {\n",
       "        vertical-align: top;\n",
       "    }\n",
       "\n",
       "    .dataframe thead th {\n",
       "        text-align: right;\n",
       "    }\n",
       "</style>\n",
       "<table border=\"1\" class=\"dataframe\">\n",
       "  <thead>\n",
       "    <tr style=\"text-align: right;\">\n",
       "      <th></th>\n",
       "      <th>Predicted</th>\n",
       "    </tr>\n",
       "  </thead>\n",
       "  <tbody>\n",
       "    <tr>\n",
       "      <th>0</th>\n",
       "      <td>2</td>\n",
       "    </tr>\n",
       "    <tr>\n",
       "      <th>1</th>\n",
       "      <td>3</td>\n",
       "    </tr>\n",
       "    <tr>\n",
       "      <th>2</th>\n",
       "      <td>2</td>\n",
       "    </tr>\n",
       "    <tr>\n",
       "      <th>3</th>\n",
       "      <td>3</td>\n",
       "    </tr>\n",
       "    <tr>\n",
       "      <th>4</th>\n",
       "      <td>0</td>\n",
       "    </tr>\n",
       "    <tr>\n",
       "      <th>...</th>\n",
       "      <td>...</td>\n",
       "    </tr>\n",
       "    <tr>\n",
       "      <th>48037</th>\n",
       "      <td>2</td>\n",
       "    </tr>\n",
       "    <tr>\n",
       "      <th>48038</th>\n",
       "      <td>2</td>\n",
       "    </tr>\n",
       "    <tr>\n",
       "      <th>48039</th>\n",
       "      <td>1</td>\n",
       "    </tr>\n",
       "    <tr>\n",
       "      <th>48040</th>\n",
       "      <td>1</td>\n",
       "    </tr>\n",
       "    <tr>\n",
       "      <th>48041</th>\n",
       "      <td>2</td>\n",
       "    </tr>\n",
       "  </tbody>\n",
       "</table>\n",
       "<p>48042 rows × 1 columns</p>\n",
       "</div>"
      ],
      "text/plain": [
       "       Predicted\n",
       "0              2\n",
       "1              3\n",
       "2              2\n",
       "3              3\n",
       "4              0\n",
       "...          ...\n",
       "48037          2\n",
       "48038          2\n",
       "48039          1\n",
       "48040          1\n",
       "48041          2\n",
       "\n",
       "[48042 rows x 1 columns]"
      ]
     },
     "execution_count": 744,
     "metadata": {},
     "output_type": "execute_result"
    }
   ],
   "source": [
    "yhat_test"
   ]
  },
  {
   "cell_type": "code",
   "execution_count": 745,
   "id": "71259cac",
   "metadata": {},
   "outputs": [
    {
     "data": {
      "text/plain": [
       "array([[12179,     0,   873,     0],\n",
       "       [    0,  4120,    84,   235],\n",
       "       [ 1053,    64, 19707,    17],\n",
       "       [    0,   335,     9,  9366]], dtype=int64)"
      ]
     },
     "execution_count": 745,
     "metadata": {},
     "output_type": "execute_result"
    }
   ],
   "source": [
    "conf_mat=confusion_matrix(y_test,ytest_pred)\n",
    "conf_mat"
   ]
  },
  {
   "cell_type": "code",
   "execution_count": 746,
   "id": "2cd17fdb",
   "metadata": {},
   "outputs": [],
   "source": [
    "#pip install mlxtend"
   ]
  },
  {
   "cell_type": "code",
   "execution_count": 747,
   "id": "1377af99",
   "metadata": {},
   "outputs": [
    {
     "data": {
      "image/png": "[encoded data removed]",
      "text/plain": [
       "<Figure size 864x360 with 1 Axes>"
      ]
     },
     "metadata": {
      "needs_background": "light"
     },
     "output_type": "display_data"
    }
   ],
   "source": [
    "plot_confusion_matrix(conf_mat,class_names=[\"very expensive\",\"cheap\",\"moderate\",\"expensive\"],figsize=(12,5)); #fn"
   ]
  },
  {
   "cell_type": "code",
   "execution_count": 748,
   "id": "a6e11a6e",
   "metadata": {},
   "outputs": [],
   "source": [
    "dump(xgb, open('XGB.pkl', 'wb'))"
   ]
  },
  {
   "cell_type": "markdown",
   "id": "81ec42a8",
   "metadata": {},
   "source": [
    "# Gradient Boost Classifier Model"
   ]
  },
  {
   "cell_type": "code",
   "execution_count": 823,
   "id": "14c2869e",
   "metadata": {},
   "outputs": [],
   "source": [
    "gbc = GradientBoostingClassifier(n_estimators=50, learning_rate=0.2, max_depth=15 , max_features=\"log2\")"
   ]
  },
  {
   "cell_type": "code",
   "execution_count": null,
   "id": "2d270435",
   "metadata": {},
   "outputs": [],
   "source": [
    "gbc.fit(X_train, y_train)"
   ]
  },
  {
   "cell_type": "code",
   "execution_count": null,
   "id": "a245ae4d",
   "metadata": {},
   "outputs": [],
   "source": [
    "gbc.predict(X_test)"
   ]
  },
  {
   "cell_type": "code",
   "execution_count": null,
   "id": "09d017b9",
   "metadata": {},
   "outputs": [],
   "source": [
    "gbc.score(X_train,y_train)"
   ]
  },
  {
   "cell_type": "code",
   "execution_count": null,
   "id": "9d305d62",
   "metadata": {},
   "outputs": [],
   "source": [
    "gbc.score(X_test, y_test)"
   ]
  },
  {
   "cell_type": "code",
   "execution_count": null,
   "id": "3d6e3054",
   "metadata": {},
   "outputs": [],
   "source": [
    "error = abs(round(gbc.score(X_test, y_test) - gbc.score(X_train, y_train), 2))\n",
    "error"
   ]
  },
  {
   "cell_type": "code",
   "execution_count": null,
   "id": "a9115b55",
   "metadata": {},
   "outputs": [],
   "source": [
    "ytest_pred_gbc = gbc.predict(X_test)"
   ]
  },
  {
   "cell_type": "code",
   "execution_count": null,
   "id": "5aa29816",
   "metadata": {},
   "outputs": [],
   "source": [
    "ytrain_pred_gbc = gbc.predict(X_train)"
   ]
  },
  {
   "cell_type": "code",
   "execution_count": null,
   "id": "d41688cd",
   "metadata": {},
   "outputs": [],
   "source": [
    "metrics.accuracy_score(y_test,ytest_pred_gbc)"
   ]
  },
  {
   "cell_type": "code",
   "execution_count": null,
   "id": "c85a7524",
   "metadata": {},
   "outputs": [],
   "source": [
    "conf_mat_gbc =confusion_matrix(y_test,ytest_pred_gbc)\n",
    "conf_mat_gbc"
   ]
  },
  {
   "cell_type": "code",
   "execution_count": null,
   "id": "6f1dde26",
   "metadata": {},
   "outputs": [],
   "source": [
    "plot_confusion_matrix(conf_mat_gbc,class_names=[\"very expensive\",\"cheap\",\"moderate\",\"expensive\"],figsize=(12,5)); #fn"
   ]
  },
  {
   "cell_type": "code",
   "execution_count": null,
   "id": "fcd1392a",
   "metadata": {},
   "outputs": [],
   "source": [
    "dump(gbc, open('GBC.pkl', 'wb'))"
   ]
  },
  {
   "cell_type": "markdown",
   "id": "bdacaa8b",
   "metadata": {},
   "source": [
    "# Random Forest Classifier"
   ]
  },
  {
   "cell_type": "code",
   "execution_count": 749,
   "id": "649ab308",
   "metadata": {},
   "outputs": [],
   "source": [
    "RandomForest = RandomForestClassifier(max_depth=15, random_state=45,max_features=9)"
   ]
  },
  {
   "cell_type": "code",
   "execution_count": 750,
   "id": "ac180b57",
   "metadata": {},
   "outputs": [
    {
     "data": {
      "text/plain": [
       "RandomForestClassifier(max_depth=15, max_features=9, random_state=45)"
      ]
     },
     "execution_count": 750,
     "metadata": {},
     "output_type": "execute_result"
    }
   ],
   "source": [
    "RandomForest.fit(X_train,y_train)"
   ]
  },
  {
   "cell_type": "code",
   "execution_count": 751,
   "id": "3401f6c4",
   "metadata": {},
   "outputs": [],
   "source": [
    "RFTrain = RandomForest.predict(X_train)\n",
    "RFTest = RandomForest.predict(X_test)"
   ]
  },
  {
   "cell_type": "code",
   "execution_count": 752,
   "id": "e02d8027",
   "metadata": {},
   "outputs": [
    {
     "data": {
      "text/plain": [
       "0.9252885526055598"
      ]
     },
     "execution_count": 752,
     "metadata": {},
     "output_type": "execute_result"
    }
   ],
   "source": [
    "metrics.accuracy_score(y_train,RFTrain)"
   ]
  },
  {
   "cell_type": "code",
   "execution_count": 753,
   "id": "71983e85",
   "metadata": {},
   "outputs": [
    {
     "data": {
      "text/plain": [
       "0.9083510261854211"
      ]
     },
     "execution_count": 753,
     "metadata": {},
     "output_type": "execute_result"
    }
   ],
   "source": [
    "metrics.accuracy_score(y_test,RFTest)"
   ]
  },
  {
   "cell_type": "code",
   "execution_count": 754,
   "id": "64af7476",
   "metadata": {},
   "outputs": [],
   "source": [
    "RFconfusion = confusion_matrix(y_test,RFTest)"
   ]
  },
  {
   "cell_type": "code",
   "execution_count": 755,
   "id": "b3cae3b3",
   "metadata": {},
   "outputs": [
    {
     "data": {
      "image/png": "[encoded data removed]",
      "text/plain": [
       "<Figure size 864x360 with 1 Axes>"
      ]
     },
     "metadata": {
      "needs_background": "light"
     },
     "output_type": "display_data"
    }
   ],
   "source": [
    "plot_confusion_matrix(RFconfusion,class_names=[\"very expensive\",\"cheap\",\"moderate\",\"expensive\"],figsize=(12,5));"
   ]
  },
  {
   "cell_type": "code",
   "execution_count": 756,
   "id": "940b295f",
   "metadata": {},
   "outputs": [],
   "source": [
    "dump(RandomForest, open('RandomForest.pkl', 'wb'))"
   ]
  },
  {
   "cell_type": "markdown",
   "id": "92ec4cca",
   "metadata": {},
   "source": [
    "## AdaaBoost Classifier"
   ]
  },
  {
   "cell_type": "code",
   "execution_count": 757,
   "id": "b62194c8",
   "metadata": {},
   "outputs": [],
   "source": [
    "AdaBoost=AdaBoostClassifier(n_estimators=100, random_state=45,)"
   ]
  },
  {
   "cell_type": "code",
   "execution_count": 758,
   "id": "e8988aa4",
   "metadata": {},
   "outputs": [
    {
     "data": {
      "text/plain": [
       "AdaBoostClassifier(n_estimators=100, random_state=45)"
      ]
     },
     "execution_count": 758,
     "metadata": {},
     "output_type": "execute_result"
    }
   ],
   "source": [
    "AdaBoost.fit(X_train,y_train)"
   ]
  },
  {
   "cell_type": "code",
   "execution_count": 759,
   "id": "c10a66f9",
   "metadata": {},
   "outputs": [],
   "source": [
    "AdaTrain = AdaBoost.predict(X_train)"
   ]
  },
  {
   "cell_type": "code",
   "execution_count": 760,
   "id": "fded656d",
   "metadata": {},
   "outputs": [],
   "source": [
    "AdaTest = AdaBoost.predict(X_test)"
   ]
  },
  {
   "cell_type": "code",
   "execution_count": 761,
   "id": "cf00fcbf",
   "metadata": {},
   "outputs": [
    {
     "data": {
      "text/plain": [
       "0.6242935795093825"
      ]
     },
     "execution_count": 761,
     "metadata": {},
     "output_type": "execute_result"
    }
   ],
   "source": [
    "metrics.accuracy_score(y_train,AdaTrain)"
   ]
  },
  {
   "cell_type": "code",
   "execution_count": 762,
   "id": "087b70df",
   "metadata": {},
   "outputs": [
    {
     "data": {
      "text/plain": [
       "0.6252445776612131"
      ]
     },
     "execution_count": 762,
     "metadata": {},
     "output_type": "execute_result"
    }
   ],
   "source": [
    "metrics.accuracy_score(y_test,AdaTest)"
   ]
  },
  {
   "cell_type": "code",
   "execution_count": 763,
   "id": "f75d2116",
   "metadata": {},
   "outputs": [],
   "source": [
    "Adaconfusion = confusion_matrix(y_test,AdaTest)"
   ]
  },
  {
   "cell_type": "code",
   "execution_count": 764,
   "id": "87689b14",
   "metadata": {},
   "outputs": [
    {
     "data": {
      "image/png": "[encoded data removed]",
      "text/plain": [
       "<Figure size 864x360 with 1 Axes>"
      ]
     },
     "metadata": {
      "needs_background": "light"
     },
     "output_type": "display_data"
    }
   ],
   "source": [
    "plot_confusion_matrix(Adaconfusion,class_names=[\"very expensive\",\"cheap\",\"moderate\",\"expensive\"],figsize=(12,5));"
   ]
  },
  {
   "cell_type": "code",
   "execution_count": 765,
   "id": "36cb8921",
   "metadata": {},
   "outputs": [],
   "source": [
    "dump(AdaBoost, open('AdaBoost.pkl', 'wb'))"
   ]
  },
  {
   "cell_type": "markdown",
   "id": "813b5c58",
   "metadata": {},
   "source": [
    "# Saving Model Pikel "
   ]
  },
  {
   "cell_type": "code",
   "execution_count": 766,
   "id": "e68fcbaf",
   "metadata": {},
   "outputs": [],
   "source": [
    "def dateEdit(df):\n",
    "    dt = df['date']\n",
    "    days = []\n",
    "    for i in dt:\n",
    "        if('/' in i):\n",
    "            day, month, year = (int(x) for x in i.split('/'))\n",
    "            ans = datetime.date(year, month, day)\n",
    "            days.append(ans.strftime(\"%A\"))\n",
    "        else:\n",
    "            day, month, year = (int(x) for x in i.split('-'))\n",
    "            ans = datetime.date(year, month, day)\n",
    "            days.append(ans.strftime(\"%A\"))\n",
    "    df['Days'] = days\n",
    "    df['Day'] = pd.to_datetime(df['date']).dt.day\n",
    "    df['Month'] = pd.to_datetime(df['date']).dt.month\n",
    "    df['Weekends'] = df['Days'].apply(isWeekEndOrNot)\n",
    "\n",
    "    return df"
   ]
  },
  {
   "cell_type": "code",
   "execution_count": 767,
   "id": "34c2afba",
   "metadata": {},
   "outputs": [],
   "source": [
    "def HandelSource_Dist_Part (test):\n",
    "    \n",
    "    test['stop'] = test['stop'].apply(retrnNumberOfStops)\n",
    "    test['time_taken'] = test['time_taken'].apply(handlingTimeTaken)\n",
    "    test['source'] = test['route'].apply(getCity,args=[0])\n",
    "    test['destination'] = test['route'].apply(getCity,args=[1])\n",
    "    cities = list(pd.concat([test['source'],test['destination']]).unique())\n",
    "    for i in cities:  \n",
    "        if findLocation(i) != None:\n",
    "            loc = findLocation(i)\n",
    "            longitude.append(loc.longitude)\n",
    "            latitude.append(loc.latitude)   \n",
    "\n",
    "            print(f\"city of {i} \\n latitude: {loc.latitude}\\n longitude: {loc.longitude}\")\n",
    "            print(\"*\"*30)\n",
    "        else:\n",
    "            latitude.append(np.nan)\n",
    "            longitude.append(np.nan)\n",
    "            \n",
    "    test['distance'] = test['route'].apply(getDistance)\n",
    "    return test"
   ]
  },
  {
   "cell_type": "code",
   "execution_count": 768,
   "id": "77a2ad20",
   "metadata": {},
   "outputs": [],
   "source": [
    "def testPreprocessing(test):\n",
    "    \n",
    "    test= HandelSource_Dist_Part (test)\n",
    "    test=test.fillna(test.mode())\n",
    "    test = dateEdit(test)\n",
    "    for i in ([\"type\",\"airline\",\"ch_code\",\"source\",\"destination\",\"TicketCategory\",\"Days\"]) :\n",
    "        test[i] = les[i].transform( np.array(test[i]).reshape(-1,1)) \n",
    "    test = test.drop(['route','num_code','dep_time','arr_time','date'], axis='columns')\n",
    "    return test\n"
   ]
  },
  {
   "cell_type": "markdown",
   "id": "6a81a3fe",
   "metadata": {},
   "source": [
    "# Manual Test On Sample Data Given"
   ]
  },
  {
   "cell_type": "code",
   "execution_count": 778,
   "id": "a87142aa",
   "metadata": {},
   "outputs": [],
   "source": [
    "test = pd.read_csv('airline-tas-classification-test.csv')"
   ]
  },
  {
   "cell_type": "code",
   "execution_count": 779,
   "id": "ea4ca7ed",
   "metadata": {},
   "outputs": [
    {
     "data": {
      "text/plain": [
       "date              0\n",
       "airline           0\n",
       "ch_code           0\n",
       "num_code          0\n",
       "dep_time          0\n",
       "time_taken        0\n",
       "stop              0\n",
       "arr_time          0\n",
       "type              0\n",
       "route             0\n",
       "TicketCategory    0\n",
       "dtype: int64"
      ]
     },
     "execution_count": 779,
     "metadata": {},
     "output_type": "execute_result"
    }
   ],
   "source": [
    "test.isnull().sum()"
   ]
  },
  {
   "cell_type": "code",
   "execution_count": 780,
   "id": "0a3d85e2",
   "metadata": {},
   "outputs": [
    {
     "data": {
      "text/html": [
       "<div>\n",
       "<style scoped>\n",
       "    .dataframe tbody tr th:only-of-type {\n",
       "        vertical-align: middle;\n",
       "    }\n",
       "\n",
       "    .dataframe tbody tr th {\n",
       "        vertical-align: top;\n",
       "    }\n",
       "\n",
       "    .dataframe thead th {\n",
       "        text-align: right;\n",
       "    }\n",
       "</style>\n",
       "<table border=\"1\" class=\"dataframe\">\n",
       "  <thead>\n",
       "    <tr style=\"text-align: right;\">\n",
       "      <th></th>\n",
       "      <th>date</th>\n",
       "      <th>airline</th>\n",
       "      <th>ch_code</th>\n",
       "      <th>num_code</th>\n",
       "      <th>dep_time</th>\n",
       "      <th>time_taken</th>\n",
       "      <th>stop</th>\n",
       "      <th>arr_time</th>\n",
       "      <th>type</th>\n",
       "      <th>route</th>\n",
       "      <th>TicketCategory</th>\n",
       "    </tr>\n",
       "  </thead>\n",
       "  <tbody>\n",
       "    <tr>\n",
       "      <th>0</th>\n",
       "      <td>8/3/2022</td>\n",
       "      <td>Air India</td>\n",
       "      <td>AI</td>\n",
       "      <td>430</td>\n",
       "      <td>9:55</td>\n",
       "      <td>11h 20m</td>\n",
       "      <td>1-stop\\n\\t\\t\\t\\t\\t\\t\\t\\t\\t\\t\\t\\t\\n\\t\\t\\t\\t\\t\\t...</td>\n",
       "      <td>21:15</td>\n",
       "      <td>economy</td>\n",
       "      <td>{'source': 'Chennai', 'destination': 'Mumbai'}</td>\n",
       "      <td>cheap</td>\n",
       "    </tr>\n",
       "    <tr>\n",
       "      <th>1</th>\n",
       "      <td>7/3/2022</td>\n",
       "      <td>Indigo</td>\n",
       "      <td>6E</td>\n",
       "      <td>926</td>\n",
       "      <td>18:30</td>\n",
       "      <td>04h 55m</td>\n",
       "      <td>1-stop\\n\\t\\t\\t\\t\\t\\t\\t\\t\\t\\t\\t\\t\\n\\t\\t\\t\\t\\t\\t...</td>\n",
       "      <td>23:25</td>\n",
       "      <td>economy</td>\n",
       "      <td>{'source': 'Delhi', 'destination': 'Mumbai'}</td>\n",
       "      <td>cheap</td>\n",
       "    </tr>\n",
       "    <tr>\n",
       "      <th>2</th>\n",
       "      <td>24-03-2022</td>\n",
       "      <td>Indigo</td>\n",
       "      <td>6E</td>\n",
       "      <td>6491</td>\n",
       "      <td>13:05</td>\n",
       "      <td>07h 40m</td>\n",
       "      <td>1-stop\\n\\t\\t\\t\\t\\t\\t\\t\\t\\t\\t\\t\\t\\n\\t\\t\\t\\t\\t\\t...</td>\n",
       "      <td>20:45</td>\n",
       "      <td>economy</td>\n",
       "      <td>{'source': 'Bangalore', 'destination': 'Mumbai'}</td>\n",
       "      <td>cheap</td>\n",
       "    </tr>\n",
       "    <tr>\n",
       "      <th>3</th>\n",
       "      <td>27-03-2022</td>\n",
       "      <td>Air India</td>\n",
       "      <td>AI</td>\n",
       "      <td>473</td>\n",
       "      <td>18:40</td>\n",
       "      <td>22h 25m</td>\n",
       "      <td>1-stop\\n\\t\\t\\t\\t\\t\\t\\t\\t\\t\\t\\t\\t\\n\\t\\t\\t\\t\\t\\t...</td>\n",
       "      <td>17:05</td>\n",
       "      <td>economy</td>\n",
       "      <td>{'source': 'Delhi', 'destination': 'Bangalore'}</td>\n",
       "      <td>cheap</td>\n",
       "    </tr>\n",
       "    <tr>\n",
       "      <th>4</th>\n",
       "      <td>7/3/2022</td>\n",
       "      <td>Indigo</td>\n",
       "      <td>6E</td>\n",
       "      <td>684</td>\n",
       "      <td>21:55</td>\n",
       "      <td>01h 15m</td>\n",
       "      <td>non-stop</td>\n",
       "      <td>23:10</td>\n",
       "      <td>economy</td>\n",
       "      <td>{'source': 'Bangalore', 'destination': 'Hydera...</td>\n",
       "      <td>cheap</td>\n",
       "    </tr>\n",
       "  </tbody>\n",
       "</table>\n",
       "</div>"
      ],
      "text/plain": [
       "         date    airline ch_code  num_code dep_time time_taken  \\\n",
       "0    8/3/2022  Air India      AI       430     9:55    11h 20m   \n",
       "1    7/3/2022     Indigo      6E       926    18:30    04h 55m   \n",
       "2  24-03-2022     Indigo      6E      6491    13:05    07h 40m   \n",
       "3  27-03-2022  Air India      AI       473    18:40    22h 25m   \n",
       "4    7/3/2022     Indigo      6E       684    21:55    01h 15m   \n",
       "\n",
       "                                                stop arr_time     type  \\\n",
       "0  1-stop\\n\\t\\t\\t\\t\\t\\t\\t\\t\\t\\t\\t\\t\\n\\t\\t\\t\\t\\t\\t...    21:15  economy   \n",
       "1  1-stop\\n\\t\\t\\t\\t\\t\\t\\t\\t\\t\\t\\t\\t\\n\\t\\t\\t\\t\\t\\t...    23:25  economy   \n",
       "2  1-stop\\n\\t\\t\\t\\t\\t\\t\\t\\t\\t\\t\\t\\t\\n\\t\\t\\t\\t\\t\\t...    20:45  economy   \n",
       "3  1-stop\\n\\t\\t\\t\\t\\t\\t\\t\\t\\t\\t\\t\\t\\n\\t\\t\\t\\t\\t\\t...    17:05  economy   \n",
       "4                                          non-stop     23:10  economy   \n",
       "\n",
       "                                               route TicketCategory  \n",
       "0     {'source': 'Chennai', 'destination': 'Mumbai'}          cheap  \n",
       "1       {'source': 'Delhi', 'destination': 'Mumbai'}          cheap  \n",
       "2   {'source': 'Bangalore', 'destination': 'Mumbai'}          cheap  \n",
       "3    {'source': 'Delhi', 'destination': 'Bangalore'}          cheap  \n",
       "4  {'source': 'Bangalore', 'destination': 'Hydera...          cheap  "
      ]
     },
     "execution_count": 780,
     "metadata": {},
     "output_type": "execute_result"
    }
   ],
   "source": [
    "test.head()"
   ]
  },
  {
   "cell_type": "code",
   "execution_count": 781,
   "id": "9496b7da",
   "metadata": {},
   "outputs": [
    {
     "name": "stdout",
     "output_type": "stream",
     "text": [
      "<class 'pandas.core.frame.DataFrame'>\n",
      "RangeIndex: 20000 entries, 0 to 19999\n",
      "Data columns (total 11 columns):\n",
      " #   Column          Non-Null Count  Dtype \n",
      "---  ------          --------------  ----- \n",
      " 0   date            20000 non-null  object\n",
      " 1   airline         20000 non-null  object\n",
      " 2   ch_code         20000 non-null  object\n",
      " 3   num_code        20000 non-null  int64 \n",
      " 4   dep_time        20000 non-null  object\n",
      " 5   time_taken      20000 non-null  object\n",
      " 6   stop            20000 non-null  object\n",
      " 7   arr_time        20000 non-null  object\n",
      " 8   type            20000 non-null  object\n",
      " 9   route           20000 non-null  object\n",
      " 10  TicketCategory  20000 non-null  object\n",
      "dtypes: int64(1), object(10)\n",
      "memory usage: 1.7+ MB\n"
     ]
    }
   ],
   "source": [
    "test.info()"
   ]
  },
  {
   "cell_type": "code",
   "execution_count": 782,
   "id": "857593dd",
   "metadata": {},
   "outputs": [
    {
     "data": {
      "text/plain": [
       "array(['economy', 'business'], dtype=object)"
      ]
     },
     "execution_count": 782,
     "metadata": {},
     "output_type": "execute_result"
    }
   ],
   "source": [
    "test['type'].unique()"
   ]
  },
  {
   "cell_type": "code",
   "execution_count": 783,
   "id": "3d7d583b",
   "metadata": {},
   "outputs": [
    {
     "name": "stdout",
     "output_type": "stream",
     "text": [
      "city of Chennai \n",
      " latitude: 13.0836939\n",
      " longitude: 80.270186\n",
      "******************************\n",
      "city of Delhi \n",
      " latitude: 28.6517178\n",
      " longitude: 77.2219388\n",
      "******************************\n",
      "city of Bangalore \n",
      " latitude: 12.9767936\n",
      " longitude: 77.590082\n",
      "******************************\n",
      "city of Kolkata \n",
      " latitude: 22.5414185\n",
      " longitude: 88.35769124388872\n",
      "******************************\n",
      "city of Mumbai \n",
      " latitude: 19.0759899\n",
      " longitude: 72.8773928\n",
      "******************************\n",
      "city of Hyderabad \n",
      " latitude: 17.360589\n",
      " longitude: 78.4740613\n",
      "******************************\n"
     ]
    }
   ],
   "source": [
    "test = testPreprocessing(test)"
   ]
  },
  {
   "cell_type": "code",
   "execution_count": 784,
   "id": "050215e9",
   "metadata": {},
   "outputs": [
    {
     "data": {
      "text/html": [
       "<div>\n",
       "<style scoped>\n",
       "    .dataframe tbody tr th:only-of-type {\n",
       "        vertical-align: middle;\n",
       "    }\n",
       "\n",
       "    .dataframe tbody tr th {\n",
       "        vertical-align: top;\n",
       "    }\n",
       "\n",
       "    .dataframe thead th {\n",
       "        text-align: right;\n",
       "    }\n",
       "</style>\n",
       "<table border=\"1\" class=\"dataframe\">\n",
       "  <thead>\n",
       "    <tr style=\"text-align: right;\">\n",
       "      <th></th>\n",
       "      <th>airline</th>\n",
       "      <th>ch_code</th>\n",
       "      <th>time_taken</th>\n",
       "      <th>stop</th>\n",
       "      <th>type</th>\n",
       "      <th>TicketCategory</th>\n",
       "      <th>source</th>\n",
       "      <th>destination</th>\n",
       "      <th>distance</th>\n",
       "      <th>Days</th>\n",
       "      <th>Day</th>\n",
       "      <th>Month</th>\n",
       "      <th>Weekends</th>\n",
       "    </tr>\n",
       "  </thead>\n",
       "  <tbody>\n",
       "    <tr>\n",
       "      <th>0</th>\n",
       "      <td>0.0</td>\n",
       "      <td>2.0</td>\n",
       "      <td>11.333333</td>\n",
       "      <td>1</td>\n",
       "      <td>1.0</td>\n",
       "      <td>0.0</td>\n",
       "      <td>1.0</td>\n",
       "      <td>5.0</td>\n",
       "      <td>1033.009671</td>\n",
       "      <td>5.0</td>\n",
       "      <td>3</td>\n",
       "      <td>8</td>\n",
       "      <td>0</td>\n",
       "    </tr>\n",
       "    <tr>\n",
       "      <th>1</th>\n",
       "      <td>3.0</td>\n",
       "      <td>1.0</td>\n",
       "      <td>4.916667</td>\n",
       "      <td>1</td>\n",
       "      <td>1.0</td>\n",
       "      <td>0.0</td>\n",
       "      <td>2.0</td>\n",
       "      <td>5.0</td>\n",
       "      <td>1152.469723</td>\n",
       "      <td>1.0</td>\n",
       "      <td>3</td>\n",
       "      <td>7</td>\n",
       "      <td>1</td>\n",
       "    </tr>\n",
       "    <tr>\n",
       "      <th>2</th>\n",
       "      <td>3.0</td>\n",
       "      <td>1.0</td>\n",
       "      <td>7.666667</td>\n",
       "      <td>1</td>\n",
       "      <td>1.0</td>\n",
       "      <td>0.0</td>\n",
       "      <td>0.0</td>\n",
       "      <td>5.0</td>\n",
       "      <td>844.583275</td>\n",
       "      <td>4.0</td>\n",
       "      <td>24</td>\n",
       "      <td>3</td>\n",
       "      <td>0</td>\n",
       "    </tr>\n",
       "    <tr>\n",
       "      <th>3</th>\n",
       "      <td>0.0</td>\n",
       "      <td>2.0</td>\n",
       "      <td>22.416667</td>\n",
       "      <td>1</td>\n",
       "      <td>1.0</td>\n",
       "      <td>0.0</td>\n",
       "      <td>2.0</td>\n",
       "      <td>0.0</td>\n",
       "      <td>1743.390651</td>\n",
       "      <td>3.0</td>\n",
       "      <td>27</td>\n",
       "      <td>3</td>\n",
       "      <td>0</td>\n",
       "    </tr>\n",
       "    <tr>\n",
       "      <th>4</th>\n",
       "      <td>3.0</td>\n",
       "      <td>1.0</td>\n",
       "      <td>1.250000</td>\n",
       "      <td>0</td>\n",
       "      <td>1.0</td>\n",
       "      <td>0.0</td>\n",
       "      <td>0.0</td>\n",
       "      <td>3.0</td>\n",
       "      <td>496.597100</td>\n",
       "      <td>1.0</td>\n",
       "      <td>3</td>\n",
       "      <td>7</td>\n",
       "      <td>1</td>\n",
       "    </tr>\n",
       "  </tbody>\n",
       "</table>\n",
       "</div>"
      ],
      "text/plain": [
       "   airline  ch_code  time_taken  stop  type  TicketCategory  source  \\\n",
       "0      0.0      2.0   11.333333     1   1.0             0.0     1.0   \n",
       "1      3.0      1.0    4.916667     1   1.0             0.0     2.0   \n",
       "2      3.0      1.0    7.666667     1   1.0             0.0     0.0   \n",
       "3      0.0      2.0   22.416667     1   1.0             0.0     2.0   \n",
       "4      3.0      1.0    1.250000     0   1.0             0.0     0.0   \n",
       "\n",
       "   destination     distance  Days  Day  Month  Weekends  \n",
       "0          5.0  1033.009671   5.0    3      8         0  \n",
       "1          5.0  1152.469723   1.0    3      7         1  \n",
       "2          5.0   844.583275   4.0   24      3         0  \n",
       "3          0.0  1743.390651   3.0   27      3         0  \n",
       "4          3.0   496.597100   1.0    3      7         1  "
      ]
     },
     "execution_count": 784,
     "metadata": {},
     "output_type": "execute_result"
    }
   ],
   "source": [
    "test.head()"
   ]
  },
  {
   "cell_type": "code",
   "execution_count": 785,
   "id": "f40ab0e5",
   "metadata": {},
   "outputs": [],
   "source": [
    "test_x = test.drop('TicketCategory' , axis = 'columns')\n",
    "test_y = test.TicketCategory"
   ]
  },
  {
   "cell_type": "code",
   "execution_count": 786,
   "id": "2607332b",
   "metadata": {},
   "outputs": [],
   "source": [
    "testScaler= load(open('minmaxScaler.pkl', 'rb'))\n",
    "test_x =  testScaler.transform(test_x)"
   ]
  },
  {
   "cell_type": "code",
   "execution_count": 787,
   "id": "b7461245",
   "metadata": {},
   "outputs": [
    {
     "data": {
      "text/plain": [
       "array([[ 0.        ,  0.28571429,  0.21428571, ...,  0.6       ,\n",
       "        -0.19236581,  0.        ],\n",
       "       [ 0.42857143,  0.14285714,  0.08333333, ...,  0.6       ,\n",
       "        -0.19304655,  1.        ],\n",
       "       [ 0.42857143,  0.14285714,  0.13945578, ...,  4.8       ,\n",
       "        -0.19576951,  0.        ],\n",
       "       ...,\n",
       "       [ 1.        ,  1.        ,  0.29251701, ...,  4.2       ,\n",
       "        -0.19645026,  1.        ],\n",
       "       [ 0.        ,  0.28571429,  0.33673469, ...,  3.4       ,\n",
       "        -0.19576951,  0.        ],\n",
       "       [ 1.        ,  1.        ,  0.19727891, ...,  3.6       ,\n",
       "        -0.19576951,  0.        ]])"
      ]
     },
     "execution_count": 787,
     "metadata": {},
     "output_type": "execute_result"
    }
   ],
   "source": [
    "test_x"
   ]
  },
  {
   "cell_type": "code",
   "execution_count": 788,
   "id": "d95d27fa",
   "metadata": {},
   "outputs": [
    {
     "data": {
      "text/plain": [
       "0        0.0\n",
       "1        0.0\n",
       "2        0.0\n",
       "3        0.0\n",
       "4        0.0\n",
       "        ... \n",
       "19995    2.0\n",
       "19996    2.0\n",
       "19997    2.0\n",
       "19998    1.0\n",
       "19999    3.0\n",
       "Name: TicketCategory, Length: 20000, dtype: float64"
      ]
     },
     "execution_count": 788,
     "metadata": {},
     "output_type": "execute_result"
    }
   ],
   "source": [
    "test_y"
   ]
  },
  {
   "cell_type": "markdown",
   "id": "ce6775ea",
   "metadata": {},
   "source": [
    "# Naive Bayes Test "
   ]
  },
  {
   "cell_type": "code",
   "execution_count": 789,
   "id": "0510699f",
   "metadata": {},
   "outputs": [],
   "source": [
    "nbTest= load(open('naiveBoost.pkl', 'rb'))\n",
    "ypred_SampleNB = nbTest.predict(test_x)"
   ]
  },
  {
   "cell_type": "code",
   "execution_count": 790,
   "id": "0ba09e6c",
   "metadata": {},
   "outputs": [
    {
     "data": {
      "text/plain": [
       "array([2., 2., 2., ..., 2., 2., 2.])"
      ]
     },
     "execution_count": 790,
     "metadata": {},
     "output_type": "execute_result"
    }
   ],
   "source": [
    "ypred_SampleNB"
   ]
  },
  {
   "cell_type": "code",
   "execution_count": 791,
   "id": "758f49fc",
   "metadata": {},
   "outputs": [
    {
     "data": {
      "text/plain": [
       "0.43105"
      ]
     },
     "execution_count": 791,
     "metadata": {},
     "output_type": "execute_result"
    }
   ],
   "source": [
    "metrics.accuracy_score(test_y,ypred_SampleNB)"
   ]
  },
  {
   "cell_type": "code",
   "execution_count": 792,
   "id": "b4343443",
   "metadata": {},
   "outputs": [],
   "source": [
    "NBconfusion_sample = confusion_matrix(test_y,ypred_SampleNB)"
   ]
  },
  {
   "cell_type": "markdown",
   "id": "17ccd556",
   "metadata": {},
   "source": [
    "# Logistic Test "
   ]
  },
  {
   "cell_type": "code",
   "execution_count": 793,
   "id": "fe1dd584",
   "metadata": {},
   "outputs": [],
   "source": [
    "logTest = load(open('Logistic.pkl', 'rb'))\n",
    "ypred_SampleLOG = logTest.predict(test_x)"
   ]
  },
  {
   "cell_type": "code",
   "execution_count": 794,
   "id": "d46d542c",
   "metadata": {},
   "outputs": [
    {
     "data": {
      "text/plain": [
       "array([0., 0., 0., ..., 0., 0., 0.])"
      ]
     },
     "execution_count": 794,
     "metadata": {},
     "output_type": "execute_result"
    }
   ],
   "source": [
    "ypred_SampleLOG"
   ]
  },
  {
   "cell_type": "code",
   "execution_count": 795,
   "id": "ef517550",
   "metadata": {},
   "outputs": [
    {
     "data": {
      "text/plain": [
       "0.269"
      ]
     },
     "execution_count": 795,
     "metadata": {},
     "output_type": "execute_result"
    }
   ],
   "source": [
    "metrics.accuracy_score(test_y,ypred_SampleLOG)"
   ]
  },
  {
   "cell_type": "code",
   "execution_count": 796,
   "id": "7231a6ed",
   "metadata": {},
   "outputs": [],
   "source": [
    "LOGconfusion_sample = confusion_matrix(test_y,ypred_SampleLOG)"
   ]
  },
  {
   "cell_type": "code",
   "execution_count": 797,
   "id": "814aa4ac",
   "metadata": {},
   "outputs": [
    {
     "data": {
      "text/plain": [
       "array([[5380,    0,    0,    0],\n",
       "       [1954,    0,    0,    0],\n",
       "       [8621,    0,    0,    0],\n",
       "       [4045,    0,    0,    0]], dtype=int64)"
      ]
     },
     "execution_count": 797,
     "metadata": {},
     "output_type": "execute_result"
    }
   ],
   "source": [
    "LOGconfusion_sample"
   ]
  },
  {
   "cell_type": "markdown",
   "id": "2a1d3efb",
   "metadata": {},
   "source": [
    "# KNN Test "
   ]
  },
  {
   "cell_type": "code",
   "execution_count": 798,
   "id": "d83c7b4a",
   "metadata": {},
   "outputs": [],
   "source": [
    "knnTest = load(open('knn.pkl', 'rb'))\n",
    "ypred_SampleKNN = knnTest.predict(test_x)"
   ]
  },
  {
   "cell_type": "code",
   "execution_count": 799,
   "id": "9a29153b",
   "metadata": {},
   "outputs": [
    {
     "data": {
      "text/plain": [
       "array([0., 0., 0., ..., 2., 1., 3.])"
      ]
     },
     "execution_count": 799,
     "metadata": {},
     "output_type": "execute_result"
    }
   ],
   "source": [
    "ypred_SampleKNN"
   ]
  },
  {
   "cell_type": "code",
   "execution_count": 800,
   "id": "733e3641",
   "metadata": {},
   "outputs": [
    {
     "data": {
      "text/plain": [
       "0.59965"
      ]
     },
     "execution_count": 800,
     "metadata": {},
     "output_type": "execute_result"
    }
   ],
   "source": [
    "metrics.accuracy_score(test_y,ypred_SampleKNN)"
   ]
  },
  {
   "cell_type": "code",
   "execution_count": 801,
   "id": "08a65936",
   "metadata": {},
   "outputs": [],
   "source": [
    "KNNconfusion_sample = confusion_matrix(test_y,ypred_SampleKNN)"
   ]
  },
  {
   "cell_type": "code",
   "execution_count": 802,
   "id": "a049a5f0",
   "metadata": {},
   "outputs": [
    {
     "data": {
      "text/plain": [
       "array([[2649,    0, 2731,    0],\n",
       "       [   4,  385,   44, 1521],\n",
       "       [3018,   98, 5331,  174],\n",
       "       [   0,  417,    0, 3628]], dtype=int64)"
      ]
     },
     "execution_count": 802,
     "metadata": {},
     "output_type": "execute_result"
    }
   ],
   "source": [
    "KNNconfusion_sample "
   ]
  },
  {
   "cell_type": "markdown",
   "id": "f035c322",
   "metadata": {},
   "source": [
    "# Gradient Boosting Test"
   ]
  },
  {
   "cell_type": "code",
   "execution_count": null,
   "id": "978f3cc4",
   "metadata": {},
   "outputs": [],
   "source": [
    "gbcTest = load(open('GBC.pkl', 'rb'))\n",
    "ypred_SampleGB = gbcTest.predict(test_x)"
   ]
  },
  {
   "cell_type": "code",
   "execution_count": null,
   "id": "2ebde8d5",
   "metadata": {},
   "outputs": [],
   "source": [
    "ypred_SampleGB"
   ]
  },
  {
   "cell_type": "code",
   "execution_count": null,
   "id": "65c62670",
   "metadata": {},
   "outputs": [],
   "source": [
    "metrics.accuracy_score(test_y,ypred_SampleGB)"
   ]
  },
  {
   "cell_type": "code",
   "execution_count": null,
   "id": "3f4444d1",
   "metadata": {},
   "outputs": [],
   "source": [
    "GBconfusion_sample = confusion_matrix(test_y,ypred_SampleGB)"
   ]
  },
  {
   "cell_type": "markdown",
   "id": "4b25b5d3",
   "metadata": {},
   "source": [
    "# Decision Tree Test "
   ]
  },
  {
   "cell_type": "code",
   "execution_count": 804,
   "id": "93e87d8d",
   "metadata": {},
   "outputs": [],
   "source": [
    "dtcTest = load(open('DecisionTree.pkl', 'rb'))\n",
    "ytest_pred_dtc = dtcTest.predict(test_x)"
   ]
  },
  {
   "cell_type": "code",
   "execution_count": 805,
   "id": "9ee22993",
   "metadata": {},
   "outputs": [
    {
     "data": {
      "text/plain": [
       "array([2., 0., 0., ..., 2., 3., 3.])"
      ]
     },
     "execution_count": 805,
     "metadata": {},
     "output_type": "execute_result"
    }
   ],
   "source": [
    "ytest_pred_dtc"
   ]
  },
  {
   "cell_type": "code",
   "execution_count": 833,
   "id": "25ec3ad0",
   "metadata": {},
   "outputs": [
    {
     "data": {
      "text/plain": [
       "0.9243994837850215"
      ]
     },
     "execution_count": 833,
     "metadata": {},
     "output_type": "execute_result"
    }
   ],
   "source": [
    "metrics.accuracy_score(y_test,ytest_pred_dtc)"
   ]
  },
  {
   "cell_type": "markdown",
   "id": "e50340fb",
   "metadata": {},
   "source": [
    "# XGB Test "
   ]
  },
  {
   "cell_type": "code",
   "execution_count": 808,
   "id": "acdbb26c",
   "metadata": {},
   "outputs": [],
   "source": [
    "xgbTest = load(open('XGB.pkl', 'rb'))\n",
    "ytest_pred = xgbTest.predict(test_x)"
   ]
  },
  {
   "cell_type": "code",
   "execution_count": 809,
   "id": "25cbc39e",
   "metadata": {},
   "outputs": [
    {
     "data": {
      "text/plain": [
       "array([2, 0, 0, ..., 2, 1, 3], dtype=int64)"
      ]
     },
     "execution_count": 809,
     "metadata": {},
     "output_type": "execute_result"
    }
   ],
   "source": [
    "ytest_pred"
   ]
  },
  {
   "cell_type": "code",
   "execution_count": 827,
   "id": "108c319e",
   "metadata": {},
   "outputs": [
    {
     "data": {
      "text/plain": [
       "0.9444236293243412"
      ]
     },
     "execution_count": 827,
     "metadata": {},
     "output_type": "execute_result"
    }
   ],
   "source": [
    "metrics.accuracy_score(y_test,ytest_pred)"
   ]
  },
  {
   "cell_type": "code",
   "execution_count": 828,
   "id": "f75d2116",
   "metadata": {},
   "outputs": [],
   "source": [
    "XGBconfusion_sample = confusion_matrix(y_test,ytest_pred)"
   ]
  },
  {
   "cell_type": "markdown",
   "id": "5c5b6572",
   "metadata": {},
   "source": [
    "# Random Forest Test"
   ]
  },
  {
   "cell_type": "code",
   "execution_count": 813,
   "id": "3401f6c4",
   "metadata": {},
   "outputs": [],
   "source": [
    "RandomForestTest = load(open('RandomForest.pkl', 'rb'))\n",
    "RFTest = RandomForestTest.predict(test_x)"
   ]
  },
  {
   "cell_type": "code",
   "execution_count": 814,
   "id": "9b739571",
   "metadata": {},
   "outputs": [
    {
     "data": {
      "text/plain": [
       "array([2., 0., 0., ..., 2., 3., 3.])"
      ]
     },
     "execution_count": 814,
     "metadata": {},
     "output_type": "execute_result"
    }
   ],
   "source": [
    "RFTest"
   ]
  },
  {
   "cell_type": "code",
   "execution_count": 830,
   "id": "ea77fbdf",
   "metadata": {},
   "outputs": [
    {
     "data": {
      "text/plain": [
       "0.9083510261854211"
      ]
     },
     "execution_count": 830,
     "metadata": {},
     "output_type": "execute_result"
    }
   ],
   "source": [
    "metrics.accuracy_score(y_test,RFTest)"
   ]
  },
  {
   "cell_type": "code",
   "execution_count": 831,
   "id": "f75d2116",
   "metadata": {},
   "outputs": [],
   "source": [
    "RFconfusion_sample = confusion_matrix(y_test,RFTest)"
   ]
  },
  {
   "cell_type": "markdown",
   "id": "379f0d41",
   "metadata": {},
   "source": [
    "# AdaaBoost Test"
   ]
  },
  {
   "cell_type": "code",
   "execution_count": 818,
   "id": "8a147661",
   "metadata": {},
   "outputs": [],
   "source": [
    "AdaBoostTest = load(open('AdaBoost.pkl', 'rb'))\n",
    "AdaTest = AdaBoostTest.predict(test_x)"
   ]
  },
  {
   "cell_type": "code",
   "execution_count": 819,
   "id": "06de6450",
   "metadata": {},
   "outputs": [
    {
     "data": {
      "text/plain": [
       "array([2., 2., 2., ..., 2., 3., 3.])"
      ]
     },
     "execution_count": 819,
     "metadata": {},
     "output_type": "execute_result"
    }
   ],
   "source": [
    "AdaTest"
   ]
  },
  {
   "cell_type": "code",
   "execution_count": 826,
   "id": "b1f2373b",
   "metadata": {},
   "outputs": [
    {
     "data": {
      "text/plain": [
       "0.6252445776612131"
      ]
     },
     "execution_count": 826,
     "metadata": {},
     "output_type": "execute_result"
    }
   ],
   "source": [
    "metrics.accuracy_score(y_test,AdaTest)"
   ]
  },
  {
   "cell_type": "code",
   "execution_count": 821,
   "id": "f75d2116",
   "metadata": {},
   "outputs": [],
   "source": [
    "Adaconfusion_sample = confusion_matrix(test_y,AdaTest)"
   ]
  },
  {
   "cell_type": "code",
   "execution_count": null,
   "id": "f6541c53",
   "metadata": {},
   "outputs": [],
   "source": []
  },
  {
   "cell_type": "code",
   "execution_count": null,
   "id": "fd5cbac4",
   "metadata": {},
   "outputs": [],
   "source": []
  }
 ],
 "metadata": {
  "kernelspec": {
   "display_name": "Python 3",
   "language": "python",
   "name": "python3"
  },
  "language_info": {
   "codemirror_mode": {
    "name": "ipython",
    "version": 3
   },
   "file_extension": ".py",
   "mimetype": "text/x-python",
   "name": "python",
   "nbconvert_exporter": "python",
   "pygments_lexer": "ipython3",
   "version": "3.8.8"
  }
 },
 "nbformat": 4,
 "nbformat_minor": 5
}
